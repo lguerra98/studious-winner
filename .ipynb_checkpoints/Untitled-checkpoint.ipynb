{
 "cells": [
  {
   "cell_type": "code",
   "execution_count": 88,
   "id": "57ed67d4-798b-48a1-8f27-8995113f7b49",
   "metadata": {},
   "outputs": [],
   "source": [
    "import psycopg2 \n",
    "import pandas as pd\n",
    "import ipywidgets\n",
    "import os\n",
    "import sqlite3\n",
    "\n",
    "from ipywidgets import widgets, interactive_output, interact, interactive, fixed, widget"
   ]
  },
  {
   "cell_type": "code",
   "execution_count": 87,
   "id": "7d5880b5-af1a-4027-bacc-79654a19c195",
   "metadata": {},
   "outputs": [],
   "source": [
    "conn = psycopg2.connect(\"dbname=proyectos user=postgres password=asap2004*\")\n",
    "clientes = pd.read_sql(\"SELECT * FROM clientes\", conn, index_col=\"id\")\n",
    "invent = pd.read_sql(\"SELECT * FROM inventario\", conn)"
   ]
  },
  {
   "cell_type": "code",
   "execution_count": 83,
   "id": "a51ca94d-2ba5-47ee-8d08-edc063d6ddf5",
   "metadata": {},
   "outputs": [],
   "source": [
    "invent.to_csv(\"inventario.csv\", index=False)\n",
    "clientes.to_csv(\"clientes.csv\", index=True)"
   ]
  },
  {
   "cell_type": "code",
   "execution_count": 115,
   "id": "c0d2e79a-fd0d-44db-bb02-84765106bcdd",
   "metadata": {},
   "outputs": [],
   "source": [
    "clientes = pd.read_csv(\"clientes.csv\", index_col=\"id\")\n",
    "\n",
    "invent = pd.read_csv(\"inventario.csv\")"
   ]
  },
  {
   "cell_type": "code",
   "execution_count": 117,
   "id": "be1cde05-dd41-486a-8783-0ffceb114b1e",
   "metadata": {},
   "outputs": [
    {
     "data": {
      "application/vnd.jupyter.widget-view+json": {
       "model_id": "6ac3e40ca9e54cfd82c056c7538ff531",
       "version_major": 2,
       "version_minor": 0
      },
      "text/plain": [
       "interactive(children=(Dropdown(description='cx', options=('Aspic - Light', 'Cut Wakame - Hanawakaba', 'Beer - …"
      ]
     },
     "metadata": {},
     "output_type": "display_data"
    }
   ],
   "source": [
    "\n",
    "list_sku = invent[\"producto\"].unique().tolist()\n",
    "cx_dd = widgets.Dropdown(options=list_sku)\n",
    "# x = widgets.IntSlider(0, inevent.loc[invent[cx_dd], \"cantidad_bodega\"])\n",
    "\n",
    "\n",
    "@interact\n",
    "def create_receipt(cx=cx_dd):\n",
    "    \n",
    "        \n",
    "    print(cx)"
   ]
  },
  {
   "cell_type": "code",
   "execution_count": 116,
   "id": "f7256cea-f94d-452d-b73b-b3c8b74ea2ee",
   "metadata": {},
   "outputs": [
    {
     "data": {
      "text/html": [
       "<div>\n",
       "<style scoped>\n",
       "    .dataframe tbody tr th:only-of-type {\n",
       "        vertical-align: middle;\n",
       "    }\n",
       "\n",
       "    .dataframe tbody tr th {\n",
       "        vertical-align: top;\n",
       "    }\n",
       "\n",
       "    .dataframe thead th {\n",
       "        text-align: right;\n",
       "    }\n",
       "</style>\n",
       "<table border=\"1\" class=\"dataframe\">\n",
       "  <thead>\n",
       "    <tr style=\"text-align: right;\">\n",
       "      <th></th>\n",
       "      <th>tienda</th>\n",
       "      <th>direccion</th>\n",
       "      <th>email</th>\n",
       "      <th>sector</th>\n",
       "    </tr>\n",
       "    <tr>\n",
       "      <th>id</th>\n",
       "      <th></th>\n",
       "      <th></th>\n",
       "      <th></th>\n",
       "      <th></th>\n",
       "    </tr>\n",
       "  </thead>\n",
       "  <tbody>\n",
       "    <tr>\n",
       "      <th>1</th>\n",
       "      <td>Fritsch-Barrows</td>\n",
       "      <td>Westport</td>\n",
       "      <td>tbrisker0@skyrock.com</td>\n",
       "      <td>Nisporeni</td>\n",
       "    </tr>\n",
       "    <tr>\n",
       "      <th>2</th>\n",
       "      <td>Russel Inc</td>\n",
       "      <td>Dayton</td>\n",
       "      <td>ewinterflood1@hhs.gov</td>\n",
       "      <td>SÃ£o Pedro</td>\n",
       "    </tr>\n",
       "    <tr>\n",
       "      <th>3</th>\n",
       "      <td>Lakin LLC</td>\n",
       "      <td>Menomonie</td>\n",
       "      <td>nleguey2@irs.gov</td>\n",
       "      <td>Okpoma</td>\n",
       "    </tr>\n",
       "    <tr>\n",
       "      <th>4</th>\n",
       "      <td>Tromp, Williamson and O'Conner</td>\n",
       "      <td>Armistice</td>\n",
       "      <td>pcocker3@washingtonpost.com</td>\n",
       "      <td>Chilecito</td>\n",
       "    </tr>\n",
       "    <tr>\n",
       "      <th>5</th>\n",
       "      <td>Koepp, Hessel and Cronin</td>\n",
       "      <td>Dexter</td>\n",
       "      <td>hrikard4@dailymotion.com</td>\n",
       "      <td>Buzhakan</td>\n",
       "    </tr>\n",
       "  </tbody>\n",
       "</table>\n",
       "</div>"
      ],
      "text/plain": [
       "                            tienda  direccion                        email  \\\n",
       "id                                                                           \n",
       "1                  Fritsch-Barrows   Westport        tbrisker0@skyrock.com   \n",
       "2                       Russel Inc     Dayton        ewinterflood1@hhs.gov   \n",
       "3                        Lakin LLC  Menomonie             nleguey2@irs.gov   \n",
       "4   Tromp, Williamson and O'Conner  Armistice  pcocker3@washingtonpost.com   \n",
       "5         Koepp, Hessel and Cronin     Dexter     hrikard4@dailymotion.com   \n",
       "\n",
       "        sector  \n",
       "id              \n",
       "1    Nisporeni  \n",
       "2   SÃ£o Pedro  \n",
       "3       Okpoma  \n",
       "4    Chilecito  \n",
       "5     Buzhakan  "
      ]
     },
     "execution_count": 116,
     "metadata": {},
     "output_type": "execute_result"
    }
   ],
   "source": [
    "clientes.head()"
   ]
  }
 ],
 "metadata": {
  "kernelspec": {
   "display_name": "Python 3 (ipykernel)",
   "language": "python",
   "name": "python3"
  },
  "language_info": {
   "codemirror_mode": {
    "name": "ipython",
    "version": 3
   },
   "file_extension": ".py",
   "mimetype": "text/x-python",
   "name": "python",
   "nbconvert_exporter": "python",
   "pygments_lexer": "ipython3",
   "version": "3.12.2"
  },
  "widgets": {
   "application/vnd.jupyter.widget-state+json": {
    "state": {
     "00240678f37c415c816e2ddaac9bf2b6": {
      "model_module": "@jupyter-widgets/base",
      "model_module_version": "2.0.0",
      "model_name": "LayoutModel",
      "state": {}
     },
     "0039d182129345c58a33ddb0d9110458": {
      "model_module": "@jupyter-widgets/output",
      "model_module_version": "1.0.0",
      "model_name": "OutputModel",
      "state": {
       "layout": "IPY_MODEL_054ef22914d6402a8f835291e627a752",
       "outputs": [
        {
         "data": {
          "text/plain": "25"
         },
         "metadata": {},
         "output_type": "display_data"
        }
       ]
      }
     },
     "0352afce810640e6b14c034fa0ff56d2": {
      "model_module": "@jupyter-widgets/base",
      "model_module_version": "2.0.0",
      "model_name": "LayoutModel",
      "state": {}
     },
     "054ef22914d6402a8f835291e627a752": {
      "model_module": "@jupyter-widgets/base",
      "model_module_version": "2.0.0",
      "model_name": "LayoutModel",
      "state": {}
     },
     "0862f068e3084a4fa3f3f346056acb88": {
      "model_module": "@jupyter-widgets/controls",
      "model_module_version": "2.0.0",
      "model_name": "VBoxModel",
      "state": {
       "_dom_classes": [
        "widget-interact"
       ],
       "children": [
        "IPY_MODEL_12395c9f9b504c0d912b19c8dea22f4c",
        "IPY_MODEL_61b25726d617469aadef2c04efb11842"
       ],
       "layout": "IPY_MODEL_4b7da6bb0ad1469594e5190268cd0964"
      }
     },
     "0c41f47ab2fb4e08ad48df7fdcb6b8f9": {
      "model_module": "@jupyter-widgets/controls",
      "model_module_version": "2.0.0",
      "model_name": "DropdownModel",
      "state": {
       "_options_labels": [
        "Fritsch-Barrows",
        "Russel Inc",
        "Lakin LLC",
        "Tromp, Williamson and O'Conner",
        "Koepp, Hessel and Cronin",
        "Strosin-Jacobi",
        "Bartoletti and Sons",
        "Runolfsdottir-Hessel",
        "Zboncak-Hahn",
        "Dietrich Inc",
        "Simonis, Kutch and Pfeffer",
        "Stark, Kulas and Ferry",
        "Schoen, Armstrong and Abshire",
        "Hodkiewicz-Auer",
        "Bogisich-Kunde",
        "Willms-Keebler",
        "Yost, Reynolds and Von",
        "Hills LLC",
        "Rutherford-Streich",
        "Mayer Group",
        "Johnston-Maggio",
        "Boyle, Howe and Hills",
        "Ritchie Group",
        "Conroy and Sons",
        "Kuphal and Sons",
        "Sanford Group",
        "Nader, Nitzsche and Schulist",
        "Herzog Inc",
        "Tremblay, Kshlerin and Lesch",
        "Schiller Inc",
        "Krajcik, Bogisich and Tillman",
        "Hoppe LLC",
        "Reynolds, Roberts and Powlowski",
        "Crona, Nader and Hermiston",
        "Franecki-Purdy",
        "Weber LLC",
        "Brakus, Rowe and Powlowski",
        "Gottlieb, Waters and Armstrong",
        "Herman-Witting",
        "Herzog-Bashirian",
        "McDermott-Cummings",
        "Wiza-Bogisich",
        "Cronin Inc",
        "Jones-Murphy",
        "Stamm, Murray and Sipes",
        "Muller, Roob and Roob",
        "Bernhard LLC",
        "Dooley and Sons",
        "Rohan and Sons",
        "McKenzie-Schaden",
        "Cummerata-Wolff",
        "Grant, Wiegand and Nienow",
        "Johns, Kuvalis and Bradtke",
        "Davis and Sons",
        "Wilderman, Douglas and Macejkovic",
        "Strosin, Renner and Herman",
        "Bernier, Kling and Greenholt",
        "Christiansen, O'Conner and Ward",
        "Kemmer-Macejkovic",
        "Smith-Abernathy",
        "Mante LLC",
        "Schmeler Inc",
        "Gorczany and Sons",
        "Hansen, Kutch and Spencer",
        "Treutel, DuBuque and Reichel",
        "Flatley-Ortiz",
        "Krajcik, DuBuque and Crooks",
        "Monahan-Kihn",
        "Kris, Lind and O'Connell",
        "Shanahan-Harris",
        "Russel, Jones and Kutch",
        "Ritchie, Mertz and Shanahan",
        "Davis, Hand and Emard",
        "McClure LLC",
        "Fritsch, Boyer and Champlin",
        "Hegmann, Beier and Kertzmann",
        "Steuber-Jacobs",
        "Gleichner, Sporer and Carter",
        "Raynor LLC",
        "Kreiger Group",
        "Hegmann, Berge and Kulas",
        "Strosin, Boyer and Cremin",
        "Casper-Price",
        "Larson-Bahringer",
        "Beatty LLC",
        "Balistreri-Bednar",
        "Nienow Group",
        "Kuphal Group",
        "Barton, Weber and Walter",
        "Brown Group",
        "Hayes, Dicki and Labadie",
        "Quitzon, Beahan and Hodkiewicz",
        "Jerde and Sons",
        "Stark, O'Kon and Schmidt",
        "King LLC",
        "Jerde, Glover and Mitchell",
        "McGlynn, Reinger and MacGyver",
        "Armstrong, Kiehn and Nader"
       ],
       "index": 0,
       "layout": "IPY_MODEL_b98e6a93226c47dc8ac90461eb3f8b13",
       "style": "IPY_MODEL_0f1784e247a140778376bc64c44a0329"
      }
     },
     "0dd0404ea5a4459997a501d379abe3f7": {
      "model_module": "@jupyter-widgets/base",
      "model_module_version": "2.0.0",
      "model_name": "LayoutModel",
      "state": {}
     },
     "0f1784e247a140778376bc64c44a0329": {
      "model_module": "@jupyter-widgets/controls",
      "model_module_version": "2.0.0",
      "model_name": "DescriptionStyleModel",
      "state": {
       "description_width": ""
      }
     },
     "12395c9f9b504c0d912b19c8dea22f4c": {
      "model_module": "@jupyter-widgets/controls",
      "model_module_version": "2.0.0",
      "model_name": "IntSliderModel",
      "state": {
       "behavior": "drag-tap",
       "description": "x",
       "layout": "IPY_MODEL_aa8a5c7574424d99b9a54a0a632ab632",
       "max": 15,
       "min": -5,
       "style": "IPY_MODEL_a824e964b1fa4d7a978d55f7624e01f7",
       "value": 9
      }
     },
     "14a009d0f970445ab5628d21effc82a7": {
      "model_module": "@jupyter-widgets/base",
      "model_module_version": "2.0.0",
      "model_name": "LayoutModel",
      "state": {}
     },
     "1502de63abef4b949738dcb891747ac5": {
      "model_module": "@jupyter-widgets/controls",
      "model_module_version": "2.0.0",
      "model_name": "DescriptionStyleModel",
      "state": {
       "description_width": ""
      }
     },
     "16fdf4781ee24e06aabb5ad8a476080a": {
      "model_module": "@jupyter-widgets/base",
      "model_module_version": "2.0.0",
      "model_name": "LayoutModel",
      "state": {}
     },
     "1ab2104b2a024c319dd0fe3e5d25e41e": {
      "model_module": "@jupyter-widgets/base",
      "model_module_version": "2.0.0",
      "model_name": "LayoutModel",
      "state": {}
     },
     "1d2014207d2646208cf2f5cbcb21577f": {
      "model_module": "@jupyter-widgets/controls",
      "model_module_version": "2.0.0",
      "model_name": "CheckboxStyleModel",
      "state": {
       "description_width": ""
      }
     },
     "1fc901456a78404a8aad9cccedce3949": {
      "model_module": "@jupyter-widgets/controls",
      "model_module_version": "2.0.0",
      "model_name": "DropdownModel",
      "state": {
       "_options_labels": [
        "Westport",
        "Dayton",
        "Menomonie",
        "Armistice",
        "Dexter",
        "Crownhardt",
        "Shelley",
        "Drewry",
        "Jackson",
        "Fremont",
        "Duke",
        "International",
        "Crest Line",
        "Loomis",
        "Loeprich",
        "Acker",
        "Troy",
        "Fisk",
        "Prairieview",
        "Mallory",
        "Melody",
        "Summit",
        "Dahle",
        "Valley Edge",
        "Lake View",
        "Thompson",
        "Miller",
        "Susan",
        "Ilene",
        "Petterle",
        "Artisan",
        "Meadow Valley",
        "Schurz",
        "Corry",
        "Marquette",
        "Katie",
        "Banding",
        "Roth",
        "Dryden",
        "Claremont",
        "Continental",
        "Messerschmidt",
        "Orin",
        "Harbort",
        "Paget",
        "Pleasure",
        "Graceland",
        "Manley",
        "Northwestern",
        "Prentice",
        "Di Loreto",
        "Randy",
        "Arizona",
        "Park Meadow",
        "Northland",
        "Service",
        "Cottonwood",
        "Swallow",
        "Evergreen",
        "Towne",
        "Stone Corner",
        "Kingsford",
        "Westend",
        "Elgar",
        "Lien",
        "Everett",
        "Hoffman",
        "Saint Paul",
        "Eggendart",
        "Erie",
        "Mockingbird",
        "Farragut",
        "Division",
        "Hayes",
        "Tennyson",
        "Union",
        "Kings",
        "Beilfuss",
        "Hermina",
        "Cardinal",
        "Corscot"
       ],
       "index": 0,
       "layout": "IPY_MODEL_f405fefd46874ebf8ea1d1a3b57d888e",
       "style": "IPY_MODEL_bfb902fa1f5a4d0f85cf57ccb26b92ee"
      }
     },
     "20f9177dd3564e1ba4cdaf6006dcf73d": {
      "model_module": "@jupyter-widgets/base",
      "model_module_version": "2.0.0",
      "model_name": "LayoutModel",
      "state": {}
     },
     "2142f7fee60449f984cae4ed4fa789c8": {
      "model_module": "@jupyter-widgets/controls",
      "model_module_version": "2.0.0",
      "model_name": "DescriptionStyleModel",
      "state": {
       "description_width": ""
      }
     },
     "27cec9238ae24345bda8acf770dbfc3a": {
      "model_module": "@jupyter-widgets/base",
      "model_module_version": "2.0.0",
      "model_name": "LayoutModel",
      "state": {}
     },
     "2acf761f77c642b8ae8359bfc632bfc9": {
      "model_module": "@jupyter-widgets/base",
      "model_module_version": "2.0.0",
      "model_name": "LayoutModel",
      "state": {}
     },
     "2eeb539e4c5c408bb7c50e4e11859ae1": {
      "model_module": "@jupyter-widgets/base",
      "model_module_version": "2.0.0",
      "model_name": "LayoutModel",
      "state": {}
     },
     "32b816f5900c474a9bf76e0b8dbcda44": {
      "model_module": "@jupyter-widgets/controls",
      "model_module_version": "2.0.0",
      "model_name": "DropdownModel",
      "state": {
       "_options_labels": [
        "Fritsch-Barrows",
        "Russel Inc",
        "Lakin LLC",
        "Tromp, Williamson and O'Conner",
        "Koepp, Hessel and Cronin",
        "Strosin-Jacobi",
        "Bartoletti and Sons",
        "Runolfsdottir-Hessel",
        "Zboncak-Hahn",
        "Dietrich Inc",
        "Simonis, Kutch and Pfeffer",
        "Stark, Kulas and Ferry",
        "Schoen, Armstrong and Abshire",
        "Hodkiewicz-Auer",
        "Bogisich-Kunde",
        "Willms-Keebler",
        "Yost, Reynolds and Von",
        "Hills LLC",
        "Rutherford-Streich",
        "Mayer Group",
        "Johnston-Maggio",
        "Boyle, Howe and Hills",
        "Ritchie Group",
        "Conroy and Sons",
        "Kuphal and Sons",
        "Sanford Group",
        "Nader, Nitzsche and Schulist",
        "Herzog Inc",
        "Tremblay, Kshlerin and Lesch",
        "Schiller Inc",
        "Krajcik, Bogisich and Tillman",
        "Hoppe LLC",
        "Reynolds, Roberts and Powlowski",
        "Crona, Nader and Hermiston",
        "Franecki-Purdy",
        "Weber LLC",
        "Brakus, Rowe and Powlowski",
        "Gottlieb, Waters and Armstrong",
        "Herman-Witting",
        "Herzog-Bashirian",
        "McDermott-Cummings",
        "Wiza-Bogisich",
        "Cronin Inc",
        "Jones-Murphy",
        "Stamm, Murray and Sipes",
        "Muller, Roob and Roob",
        "Bernhard LLC",
        "Dooley and Sons",
        "Rohan and Sons",
        "McKenzie-Schaden",
        "Cummerata-Wolff",
        "Grant, Wiegand and Nienow",
        "Johns, Kuvalis and Bradtke",
        "Davis and Sons",
        "Wilderman, Douglas and Macejkovic",
        "Strosin, Renner and Herman",
        "Bernier, Kling and Greenholt",
        "Christiansen, O'Conner and Ward",
        "Kemmer-Macejkovic",
        "Smith-Abernathy",
        "Mante LLC",
        "Schmeler Inc",
        "Gorczany and Sons",
        "Hansen, Kutch and Spencer",
        "Treutel, DuBuque and Reichel",
        "Flatley-Ortiz",
        "Krajcik, DuBuque and Crooks",
        "Monahan-Kihn",
        "Kris, Lind and O'Connell",
        "Shanahan-Harris",
        "Russel, Jones and Kutch",
        "Ritchie, Mertz and Shanahan",
        "Davis, Hand and Emard",
        "McClure LLC",
        "Fritsch, Boyer and Champlin",
        "Hegmann, Beier and Kertzmann",
        "Steuber-Jacobs",
        "Gleichner, Sporer and Carter",
        "Raynor LLC",
        "Kreiger Group",
        "Hegmann, Berge and Kulas",
        "Strosin, Boyer and Cremin",
        "Casper-Price",
        "Larson-Bahringer",
        "Beatty LLC",
        "Balistreri-Bednar",
        "Nienow Group",
        "Kuphal Group",
        "Barton, Weber and Walter",
        "Brown Group",
        "Hayes, Dicki and Labadie",
        "Quitzon, Beahan and Hodkiewicz",
        "Jerde and Sons",
        "Stark, O'Kon and Schmidt",
        "King LLC",
        "Jerde, Glover and Mitchell",
        "McGlynn, Reinger and MacGyver",
        "Armstrong, Kiehn and Nader"
       ],
       "index": 0,
       "layout": "IPY_MODEL_7ca3b6dcdfda43cebdd24eaad70e1b59",
       "style": "IPY_MODEL_5f2a06a5caf64874829e3ef5e80ad339"
      }
     },
     "357e56b67b854d4babde4eb3e747568d": {
      "model_module": "@jupyter-widgets/base",
      "model_module_version": "2.0.0",
      "model_name": "LayoutModel",
      "state": {}
     },
     "366c7f87489145b3b978d9c964bb1844": {
      "model_module": "@jupyter-widgets/controls",
      "model_module_version": "2.0.0",
      "model_name": "IntSliderModel",
      "state": {
       "behavior": "drag-tap",
       "description": "x",
       "layout": "IPY_MODEL_c8ba2d24956248e5aa4d0bb12a607d4a",
       "max": 1,
       "style": "IPY_MODEL_7c77c7b17bda4a169537b381ed8d7fa5"
      }
     },
     "39a7162bb41c4056a4d6910ad51c93c4": {
      "model_module": "@jupyter-widgets/output",
      "model_module_version": "1.0.0",
      "model_name": "OutputModel",
      "state": {
       "layout": "IPY_MODEL_16fdf4781ee24e06aabb5ad8a476080a",
       "outputs": [
        {
         "data": {
          "text/plain": "169"
         },
         "metadata": {},
         "output_type": "display_data"
        }
       ]
      }
     },
     "39bc728672bd47a596a9e1df2cb56fe3": {
      "model_module": "@jupyter-widgets/controls",
      "model_module_version": "2.0.0",
      "model_name": "DropdownModel",
      "state": {
       "_options_labels": [
        "Fritsch-Barrows",
        "Russel Inc",
        "Lakin LLC",
        "Tromp, Williamson and O'Conner",
        "Koepp, Hessel and Cronin",
        "Strosin-Jacobi",
        "Bartoletti and Sons",
        "Runolfsdottir-Hessel",
        "Zboncak-Hahn",
        "Dietrich Inc",
        "Simonis, Kutch and Pfeffer",
        "Stark, Kulas and Ferry",
        "Schoen, Armstrong and Abshire",
        "Hodkiewicz-Auer",
        "Bogisich-Kunde",
        "Willms-Keebler",
        "Yost, Reynolds and Von",
        "Hills LLC",
        "Rutherford-Streich",
        "Mayer Group",
        "Johnston-Maggio",
        "Boyle, Howe and Hills",
        "Ritchie Group",
        "Conroy and Sons",
        "Kuphal and Sons",
        "Sanford Group",
        "Nader, Nitzsche and Schulist",
        "Herzog Inc",
        "Tremblay, Kshlerin and Lesch",
        "Schiller Inc",
        "Krajcik, Bogisich and Tillman",
        "Hoppe LLC",
        "Reynolds, Roberts and Powlowski",
        "Crona, Nader and Hermiston",
        "Franecki-Purdy",
        "Weber LLC",
        "Brakus, Rowe and Powlowski",
        "Gottlieb, Waters and Armstrong",
        "Herman-Witting",
        "Herzog-Bashirian",
        "McDermott-Cummings",
        "Wiza-Bogisich",
        "Cronin Inc",
        "Jones-Murphy",
        "Stamm, Murray and Sipes",
        "Muller, Roob and Roob",
        "Bernhard LLC",
        "Dooley and Sons",
        "Rohan and Sons",
        "McKenzie-Schaden",
        "Cummerata-Wolff",
        "Grant, Wiegand and Nienow",
        "Johns, Kuvalis and Bradtke",
        "Davis and Sons",
        "Wilderman, Douglas and Macejkovic",
        "Strosin, Renner and Herman",
        "Bernier, Kling and Greenholt",
        "Christiansen, O'Conner and Ward",
        "Kemmer-Macejkovic",
        "Smith-Abernathy",
        "Mante LLC",
        "Schmeler Inc",
        "Gorczany and Sons",
        "Hansen, Kutch and Spencer",
        "Treutel, DuBuque and Reichel",
        "Flatley-Ortiz",
        "Krajcik, DuBuque and Crooks",
        "Monahan-Kihn",
        "Kris, Lind and O'Connell",
        "Shanahan-Harris",
        "Russel, Jones and Kutch",
        "Ritchie, Mertz and Shanahan",
        "Davis, Hand and Emard",
        "McClure LLC",
        "Fritsch, Boyer and Champlin",
        "Hegmann, Beier and Kertzmann",
        "Steuber-Jacobs",
        "Gleichner, Sporer and Carter",
        "Raynor LLC",
        "Kreiger Group",
        "Hegmann, Berge and Kulas",
        "Strosin, Boyer and Cremin",
        "Casper-Price",
        "Larson-Bahringer",
        "Beatty LLC",
        "Balistreri-Bednar",
        "Nienow Group",
        "Kuphal Group",
        "Barton, Weber and Walter",
        "Brown Group",
        "Hayes, Dicki and Labadie",
        "Quitzon, Beahan and Hodkiewicz",
        "Jerde and Sons",
        "Stark, O'Kon and Schmidt",
        "King LLC",
        "Jerde, Glover and Mitchell",
        "McGlynn, Reinger and MacGyver",
        "Armstrong, Kiehn and Nader"
       ],
       "description": "cx",
       "index": 0,
       "layout": "IPY_MODEL_ddc9299b85a2461099ad130dfc170b3f",
       "style": "IPY_MODEL_e8f017465607473b91d6e9c0193c805a"
      }
     },
     "39ea155f49074d59966c4f789271ced3": {
      "model_module": "@jupyter-widgets/controls",
      "model_module_version": "2.0.0",
      "model_name": "VBoxModel",
      "state": {
       "_dom_classes": [
        "widget-interact"
       ],
       "children": [
        "IPY_MODEL_39bc728672bd47a596a9e1df2cb56fe3",
        "IPY_MODEL_de2412289089454da47d19eb33f6bcd1"
       ],
       "layout": "IPY_MODEL_64008463fbe14f0c9870c17a35aa75eb"
      }
     },
     "3ac4da1d68114ae586d7792fe6bb676f": {
      "model_module": "@jupyter-widgets/base",
      "model_module_version": "2.0.0",
      "model_name": "LayoutModel",
      "state": {}
     },
     "3cbc2f945aed4170a30bc4cb1d76ea85": {
      "model_module": "@jupyter-widgets/base",
      "model_module_version": "2.0.0",
      "model_name": "LayoutModel",
      "state": {}
     },
     "3ef510f18ec04718896f9c4ee431517c": {
      "model_module": "@jupyter-widgets/base",
      "model_module_version": "2.0.0",
      "model_name": "LayoutModel",
      "state": {}
     },
     "3f77431746d54c3c9c735a43c2f4b707": {
      "model_module": "@jupyter-widgets/controls",
      "model_module_version": "2.0.0",
      "model_name": "VBoxModel",
      "state": {
       "_dom_classes": [
        "widget-interact"
       ],
       "children": [
        "IPY_MODEL_83b5ba1449b344618fbc8306538e7cc7",
        "IPY_MODEL_a6bafb8a9f3b45858f1bb8c928f0c582"
       ],
       "layout": "IPY_MODEL_1ab2104b2a024c319dd0fe3e5d25e41e"
      }
     },
     "3fde686e09f34de28f6d1d32f239043c": {
      "model_module": "@jupyter-widgets/base",
      "model_module_version": "2.0.0",
      "model_name": "LayoutModel",
      "state": {}
     },
     "403179b4d20c4c4592856c3436ef11bb": {
      "model_module": "@jupyter-widgets/controls",
      "model_module_version": "2.0.0",
      "model_name": "IntSliderModel",
      "state": {
       "behavior": "drag-tap",
       "description": "x",
       "layout": "IPY_MODEL_c5b54fa2dc6a4ac8b4b267d99f5e297f",
       "min": 9,
       "style": "IPY_MODEL_f2a0e86fef3b43adb3a9d28850c4d050",
       "value": 9
      }
     },
     "42231e593ef24ae69e717ae2492d640c": {
      "model_module": "@jupyter-widgets/base",
      "model_module_version": "2.0.0",
      "model_name": "LayoutModel",
      "state": {}
     },
     "4621352aed054c7490d424309584af41": {
      "model_module": "@jupyter-widgets/base",
      "model_module_version": "2.0.0",
      "model_name": "LayoutModel",
      "state": {}
     },
     "4b7da6bb0ad1469594e5190268cd0964": {
      "model_module": "@jupyter-widgets/base",
      "model_module_version": "2.0.0",
      "model_name": "LayoutModel",
      "state": {}
     },
     "4b98fa20b52043b6b75f72b0c690c3a1": {
      "model_module": "@jupyter-widgets/controls",
      "model_module_version": "2.0.0",
      "model_name": "DropdownModel",
      "state": {
       "_options_labels": [
        "Fritsch-Barrows",
        "Russel Inc",
        "Lakin LLC",
        "Tromp, Williamson and O'Conner",
        "Koepp, Hessel and Cronin",
        "Strosin-Jacobi",
        "Bartoletti and Sons",
        "Runolfsdottir-Hessel",
        "Zboncak-Hahn",
        "Dietrich Inc",
        "Simonis, Kutch and Pfeffer",
        "Stark, Kulas and Ferry",
        "Schoen, Armstrong and Abshire",
        "Hodkiewicz-Auer",
        "Bogisich-Kunde",
        "Willms-Keebler",
        "Yost, Reynolds and Von",
        "Hills LLC",
        "Rutherford-Streich",
        "Mayer Group",
        "Johnston-Maggio",
        "Boyle, Howe and Hills",
        "Ritchie Group",
        "Conroy and Sons",
        "Kuphal and Sons",
        "Sanford Group",
        "Nader, Nitzsche and Schulist",
        "Herzog Inc",
        "Tremblay, Kshlerin and Lesch",
        "Schiller Inc",
        "Krajcik, Bogisich and Tillman",
        "Hoppe LLC",
        "Reynolds, Roberts and Powlowski",
        "Crona, Nader and Hermiston",
        "Franecki-Purdy",
        "Weber LLC",
        "Brakus, Rowe and Powlowski",
        "Gottlieb, Waters and Armstrong",
        "Herman-Witting",
        "Herzog-Bashirian",
        "McDermott-Cummings",
        "Wiza-Bogisich",
        "Cronin Inc",
        "Jones-Murphy",
        "Stamm, Murray and Sipes",
        "Muller, Roob and Roob",
        "Bernhard LLC",
        "Dooley and Sons",
        "Rohan and Sons",
        "McKenzie-Schaden",
        "Cummerata-Wolff",
        "Grant, Wiegand and Nienow",
        "Johns, Kuvalis and Bradtke",
        "Davis and Sons",
        "Wilderman, Douglas and Macejkovic",
        "Strosin, Renner and Herman",
        "Bernier, Kling and Greenholt",
        "Christiansen, O'Conner and Ward",
        "Kemmer-Macejkovic",
        "Smith-Abernathy",
        "Mante LLC",
        "Schmeler Inc",
        "Gorczany and Sons",
        "Hansen, Kutch and Spencer",
        "Treutel, DuBuque and Reichel",
        "Flatley-Ortiz",
        "Krajcik, DuBuque and Crooks",
        "Monahan-Kihn",
        "Kris, Lind and O'Connell",
        "Shanahan-Harris",
        "Russel, Jones and Kutch",
        "Ritchie, Mertz and Shanahan",
        "Davis, Hand and Emard",
        "McClure LLC",
        "Fritsch, Boyer and Champlin",
        "Hegmann, Beier and Kertzmann",
        "Steuber-Jacobs",
        "Gleichner, Sporer and Carter",
        "Raynor LLC",
        "Kreiger Group",
        "Hegmann, Berge and Kulas",
        "Strosin, Boyer and Cremin",
        "Casper-Price",
        "Larson-Bahringer",
        "Beatty LLC",
        "Balistreri-Bednar",
        "Nienow Group",
        "Kuphal Group",
        "Barton, Weber and Walter",
        "Brown Group",
        "Hayes, Dicki and Labadie",
        "Quitzon, Beahan and Hodkiewicz",
        "Jerde and Sons",
        "Stark, O'Kon and Schmidt",
        "King LLC",
        "Jerde, Glover and Mitchell",
        "McGlynn, Reinger and MacGyver",
        "Armstrong, Kiehn and Nader"
       ],
       "description": "cx",
       "index": 0,
       "layout": "IPY_MODEL_00240678f37c415c816e2ddaac9bf2b6",
       "style": "IPY_MODEL_1502de63abef4b949738dcb891747ac5"
      }
     },
     "5102c86a111e426eaa9bd4cd4e76a70c": {
      "model_module": "@jupyter-widgets/controls",
      "model_module_version": "2.0.0",
      "model_name": "DropdownModel",
      "state": {
       "_options_labels": [
        "Aspic - Light",
        "Cut Wakame - Hanawakaba",
        "Beer - Sleeman Fine Porter",
        "Water - Evian 355 Ml",
        "Cheese - Manchego, Spanish",
        "Mushroom - Enoki, Dry",
        "Turkey - Breast, Smoked",
        "Beef - Texas Style Burger",
        "Aromat Spice / Seasoning",
        "Cucumber - Pickling Ontario",
        "Seedlings - Clamshell",
        "Sponge Cake Mix - Vanilla",
        "Rice Pilaf, Dry,package",
        "Mix - Cocktail Ice Cream",
        "Wine - Champagne Brut Veuve",
        "Initation Crab Meat",
        "Buffalo - Tenderloin",
        "Cheese - Gorgonzola",
        "Artichokes - Jerusalem",
        "Melon - Watermelon, Seedless",
        "Salmon - Smoked, Sliced",
        "Bread - Corn Muffaletta",
        "Beans - Long, Chinese",
        "Coconut - Shredded, Sweet",
        "Fish - Halibut, Cold Smoked",
        "Garlic - Elephant",
        "Cumin - Ground",
        "Wild Boar - Tenderloin",
        "Bread - Roll, Soft White Round",
        "Noodles - Cellophane, Thin",
        "Cheese - Mozzarella, Shredded",
        "Glass Clear 8 Oz",
        "Banana",
        "Water - Aquafina Vitamin",
        "Wine - Magnotta - Red, Baco",
        "Muffin Mix - Oatmeal",
        "Pastry - Plain Baked Croissant",
        "Quail - Whole, Bone - In",
        "Catfish - Fillets",
        "Stock - Fish",
        "Beef Tenderloin Aaa",
        "Quail Eggs - Canned",
        "Corn - Mini",
        "Tea - Green",
        "Beer - Camerons Cream Ale",
        "Guava",
        "Wine - Penfolds Koonuga Hill",
        "Apple - Granny Smith",
        "Wine - Red, Wolf Blass, Yellow",
        "Yogurt - Peach, 175 Gr",
        "Drambuie",
        "Pasta - Orzo, Dry",
        "The Pop Shoppe - Black Cherry",
        "Sauce - Bernaise, Mix",
        "Foil - 4oz Custard Cup",
        "Blue Curacao - Marie Brizard",
        "Syrup - Golden, Lyles",
        "Pepper - Cubanelle",
        "Crab - Claws, 26 - 30",
        "Glucose",
        "Pork - Smoked Kassler",
        "Cheese - Augre Des Champs",
        "Mint - Fresh",
        "Hickory Smoke, Liquid",
        "Ice Cream - Fudge Bars",
        "Ecolab Digiclean Mild Fm",
        "Cheese - Brie,danish",
        "Apron",
        "Lettuce - Red Leaf",
        "Carrots - Mini Red Organic",
        "Rum - Dark, Bacardi, Black",
        "Pie Shells 10",
        "Juice - Pineapple, 48 Oz",
        "Strawberries - California",
        "Oil - Peanut",
        "Beer - Alexander Kieths, Pale Ale",
        "Bread - Calabrese Baguette",
        "Wine - Soave Folonari",
        "Tart - Butter Plain Squares",
        "Cookies Almond Hazelnut",
        "Wine - Pinot Noir Latour",
        "Shallots",
        "Salmon Atl.whole 8 - 10 Lb",
        "Artichoke - Bottom, Canned",
        "Energy - Boo - Koo",
        "Scallops - 20/30",
        "Rabbit - Whole",
        "Lamb Rack - Ontario",
        "Soup - Campbells, Chix Gumbo",
        "Chilli Paste, Hot Sambal Oelek",
        "Neckerchief Blck",
        "Ham - Virginia",
        "Yeast Dry - Fleischman",
        "Towels - Paper / Kraft",
        "Soup - French Onion, Dry",
        "Squeeze Bottle",
        "Plaintain"
       ],
       "description": "cx",
       "index": 0,
       "layout": "IPY_MODEL_a7c8483871164a09b2a188bb07189f61",
       "style": "IPY_MODEL_a1bde34c84f845839aa30e8d9b1339e3"
      }
     },
     "53198d2d18d847a880dc4dee60b593a5": {
      "model_module": "@jupyter-widgets/base",
      "model_module_version": "2.0.0",
      "model_name": "LayoutModel",
      "state": {}
     },
     "54140da62a68490aaff961cab360632b": {
      "model_module": "@jupyter-widgets/base",
      "model_module_version": "2.0.0",
      "model_name": "LayoutModel",
      "state": {}
     },
     "54c2aaf0ebc74a63bf9eaa028636ab51": {
      "model_module": "@jupyter-widgets/output",
      "model_module_version": "1.0.0",
      "model_name": "OutputModel",
      "state": {
       "layout": "IPY_MODEL_f9b8f890556f4c2e8bdd5e1b0711cfce",
       "outputs": [
        {
         "name": "stdout",
         "output_type": "stream",
         "text": "Aromat Spice / Seasoning\n"
        }
       ]
      }
     },
     "54e3947ddb0149d291a487567ab9e3e8": {
      "model_module": "@jupyter-widgets/controls",
      "model_module_version": "2.0.0",
      "model_name": "DropdownModel",
      "state": {
       "_options_labels": [
        "Aspic - Light",
        "Cut Wakame - Hanawakaba",
        "Beer - Sleeman Fine Porter",
        "Water - Evian 355 Ml",
        "Cheese - Manchego, Spanish",
        "Mushroom - Enoki, Dry",
        "Turkey - Breast, Smoked",
        "Beef - Texas Style Burger",
        "Aromat Spice / Seasoning",
        "Cucumber - Pickling Ontario",
        "Seedlings - Clamshell",
        "Sponge Cake Mix - Vanilla",
        "Rice Pilaf, Dry,package",
        "Mix - Cocktail Ice Cream",
        "Wine - Champagne Brut Veuve",
        "Initation Crab Meat",
        "Buffalo - Tenderloin",
        "Cheese - Gorgonzola",
        "Artichokes - Jerusalem",
        "Melon - Watermelon, Seedless",
        "Salmon - Smoked, Sliced",
        "Bread - Corn Muffaletta",
        "Beans - Long, Chinese",
        "Coconut - Shredded, Sweet",
        "Fish - Halibut, Cold Smoked",
        "Garlic - Elephant",
        "Cumin - Ground",
        "Wild Boar - Tenderloin",
        "Bread - Roll, Soft White Round",
        "Noodles - Cellophane, Thin",
        "Cheese - Mozzarella, Shredded",
        "Glass Clear 8 Oz",
        "Banana",
        "Water - Aquafina Vitamin",
        "Wine - Magnotta - Red, Baco",
        "Muffin Mix - Oatmeal",
        "Pastry - Plain Baked Croissant",
        "Quail - Whole, Bone - In",
        "Catfish - Fillets",
        "Stock - Fish",
        "Beef Tenderloin Aaa",
        "Quail Eggs - Canned",
        "Corn - Mini",
        "Tea - Green",
        "Beer - Camerons Cream Ale",
        "Guava",
        "Wine - Penfolds Koonuga Hill",
        "Apple - Granny Smith",
        "Wine - Red, Wolf Blass, Yellow",
        "Yogurt - Peach, 175 Gr",
        "Drambuie",
        "Pasta - Orzo, Dry",
        "The Pop Shoppe - Black Cherry",
        "Sauce - Bernaise, Mix",
        "Foil - 4oz Custard Cup",
        "Blue Curacao - Marie Brizard",
        "Syrup - Golden, Lyles",
        "Pepper - Cubanelle",
        "Crab - Claws, 26 - 30",
        "Glucose",
        "Pork - Smoked Kassler",
        "Cheese - Augre Des Champs",
        "Mint - Fresh",
        "Hickory Smoke, Liquid",
        "Ice Cream - Fudge Bars",
        "Ecolab Digiclean Mild Fm",
        "Cheese - Brie,danish",
        "Apron",
        "Lettuce - Red Leaf",
        "Carrots - Mini Red Organic",
        "Rum - Dark, Bacardi, Black",
        "Pie Shells 10",
        "Juice - Pineapple, 48 Oz",
        "Strawberries - California",
        "Oil - Peanut",
        "Beer - Alexander Kieths, Pale Ale",
        "Bread - Calabrese Baguette",
        "Wine - Soave Folonari",
        "Tart - Butter Plain Squares",
        "Cookies Almond Hazelnut",
        "Wine - Pinot Noir Latour",
        "Shallots",
        "Salmon Atl.whole 8 - 10 Lb",
        "Artichoke - Bottom, Canned",
        "Energy - Boo - Koo",
        "Scallops - 20/30",
        "Rabbit - Whole",
        "Lamb Rack - Ontario",
        "Soup - Campbells, Chix Gumbo",
        "Chilli Paste, Hot Sambal Oelek",
        "Neckerchief Blck",
        "Ham - Virginia",
        "Yeast Dry - Fleischman",
        "Towels - Paper / Kraft",
        "Soup - French Onion, Dry",
        "Squeeze Bottle",
        "Plaintain"
       ],
       "description": "cx",
       "index": 8,
       "layout": "IPY_MODEL_20f9177dd3564e1ba4cdaf6006dcf73d",
       "style": "IPY_MODEL_8abfa540c5db4c1f911702e479b368f6"
      }
     },
     "5a8fa33ac90c4cc0a069a5590285a2d6": {
      "model_module": "@jupyter-widgets/controls",
      "model_module_version": "2.0.0",
      "model_name": "VBoxModel",
      "state": {
       "_dom_classes": [
        "widget-interact"
       ],
       "children": [
        "IPY_MODEL_8ec4bf842ad744268b152cd0e6e2c70e",
        "IPY_MODEL_366c7f87489145b3b978d9c964bb1844",
        "IPY_MODEL_67c407ae68f349a39b3927808c71433a"
       ],
       "layout": "IPY_MODEL_3fde686e09f34de28f6d1d32f239043c"
      }
     },
     "5e180fbc35ae4d839d5f7f8f28539c75": {
      "model_module": "@jupyter-widgets/controls",
      "model_module_version": "2.0.0",
      "model_name": "IntSliderModel",
      "state": {
       "behavior": "drag-tap",
       "description": "x",
       "layout": "IPY_MODEL_a6a99720a4ff4f7fbbf7ed2d66bdb959",
       "max": 1,
       "style": "IPY_MODEL_cd084b966f794e08b89d65007e78b795"
      }
     },
     "5e66a6a147e94780a7794c84c65d7377": {
      "model_module": "@jupyter-widgets/controls",
      "model_module_version": "2.0.0",
      "model_name": "DescriptionStyleModel",
      "state": {
       "description_width": ""
      }
     },
     "5f2a06a5caf64874829e3ef5e80ad339": {
      "model_module": "@jupyter-widgets/controls",
      "model_module_version": "2.0.0",
      "model_name": "DescriptionStyleModel",
      "state": {
       "description_width": ""
      }
     },
     "6099b52427954922abb39553cda5f5f5": {
      "model_module": "@jupyter-widgets/controls",
      "model_module_version": "2.0.0",
      "model_name": "DescriptionStyleModel",
      "state": {
       "description_width": ""
      }
     },
     "61b25726d617469aadef2c04efb11842": {
      "model_module": "@jupyter-widgets/output",
      "model_module_version": "1.0.0",
      "model_name": "OutputModel",
      "state": {
       "layout": "IPY_MODEL_357e56b67b854d4babde4eb3e747568d",
       "outputs": [
        {
         "data": {
          "text/plain": "81"
         },
         "metadata": {},
         "output_type": "display_data"
        }
       ]
      }
     },
     "61c0493464b249208ff62d66bb48dea2": {
      "model_module": "@jupyter-widgets/base",
      "model_module_version": "2.0.0",
      "model_name": "LayoutModel",
      "state": {}
     },
     "626f4ddd7f7f4a798d2add7daeb3f957": {
      "model_module": "@jupyter-widgets/controls",
      "model_module_version": "2.0.0",
      "model_name": "DropdownModel",
      "state": {
       "_options_labels": [
        "Fritsch-Barrows",
        "Russel Inc",
        "Lakin LLC",
        "Tromp, Williamson and O'Conner",
        "Koepp, Hessel and Cronin",
        "Strosin-Jacobi",
        "Bartoletti and Sons",
        "Runolfsdottir-Hessel",
        "Zboncak-Hahn",
        "Dietrich Inc"
       ],
       "description": "cx",
       "index": 0,
       "layout": "IPY_MODEL_4621352aed054c7490d424309584af41",
       "style": "IPY_MODEL_ea45fa5afd51473db80eac133859f6a7"
      }
     },
     "62a947f4065e4f21a1c0f464882af8ac": {
      "model_module": "@jupyter-widgets/base",
      "model_module_version": "2.0.0",
      "model_name": "LayoutModel",
      "state": {}
     },
     "64008463fbe14f0c9870c17a35aa75eb": {
      "model_module": "@jupyter-widgets/base",
      "model_module_version": "2.0.0",
      "model_name": "LayoutModel",
      "state": {}
     },
     "67222322b1894271b7082bde841de229": {
      "model_module": "@jupyter-widgets/base",
      "model_module_version": "2.0.0",
      "model_name": "LayoutModel",
      "state": {}
     },
     "675379a59b774df1ac943f992735fe1f": {
      "model_module": "@jupyter-widgets/controls",
      "model_module_version": "2.0.0",
      "model_name": "VBoxModel",
      "state": {
       "_dom_classes": [
        "widget-interact"
       ],
       "children": [
        "IPY_MODEL_e06aa95f35d14aa4a658ab0f5b3eca2f",
        "IPY_MODEL_0039d182129345c58a33ddb0d9110458"
       ],
       "layout": "IPY_MODEL_61c0493464b249208ff62d66bb48dea2"
      }
     },
     "676acc6d85484223beab3e45a1035bc4": {
      "model_module": "@jupyter-widgets/controls",
      "model_module_version": "2.0.0",
      "model_name": "DropdownModel",
      "state": {
       "_options_labels": [
        "Fritsch-Barrows",
        "Russel Inc",
        "Lakin LLC",
        "Tromp, Williamson and O'Conner",
        "Koepp, Hessel and Cronin",
        "Strosin-Jacobi",
        "Bartoletti and Sons",
        "Runolfsdottir-Hessel",
        "Zboncak-Hahn",
        "Dietrich Inc",
        "Simonis, Kutch and Pfeffer",
        "Stark, Kulas and Ferry",
        "Schoen, Armstrong and Abshire",
        "Hodkiewicz-Auer",
        "Bogisich-Kunde",
        "Willms-Keebler",
        "Yost, Reynolds and Von",
        "Hills LLC",
        "Rutherford-Streich",
        "Mayer Group",
        "Johnston-Maggio",
        "Boyle, Howe and Hills",
        "Ritchie Group",
        "Conroy and Sons",
        "Kuphal and Sons",
        "Sanford Group",
        "Nader, Nitzsche and Schulist",
        "Herzog Inc",
        "Tremblay, Kshlerin and Lesch",
        "Schiller Inc",
        "Krajcik, Bogisich and Tillman",
        "Hoppe LLC",
        "Reynolds, Roberts and Powlowski",
        "Crona, Nader and Hermiston",
        "Franecki-Purdy",
        "Weber LLC",
        "Brakus, Rowe and Powlowski",
        "Gottlieb, Waters and Armstrong",
        "Herman-Witting",
        "Herzog-Bashirian",
        "McDermott-Cummings",
        "Wiza-Bogisich",
        "Cronin Inc",
        "Jones-Murphy",
        "Stamm, Murray and Sipes",
        "Muller, Roob and Roob",
        "Bernhard LLC",
        "Dooley and Sons",
        "Rohan and Sons",
        "McKenzie-Schaden",
        "Cummerata-Wolff",
        "Grant, Wiegand and Nienow",
        "Johns, Kuvalis and Bradtke",
        "Davis and Sons",
        "Wilderman, Douglas and Macejkovic",
        "Strosin, Renner and Herman",
        "Bernier, Kling and Greenholt",
        "Christiansen, O'Conner and Ward",
        "Kemmer-Macejkovic",
        "Smith-Abernathy",
        "Mante LLC",
        "Schmeler Inc",
        "Gorczany and Sons",
        "Hansen, Kutch and Spencer",
        "Treutel, DuBuque and Reichel",
        "Flatley-Ortiz",
        "Krajcik, DuBuque and Crooks",
        "Monahan-Kihn",
        "Kris, Lind and O'Connell",
        "Shanahan-Harris",
        "Russel, Jones and Kutch",
        "Ritchie, Mertz and Shanahan",
        "Davis, Hand and Emard",
        "McClure LLC",
        "Fritsch, Boyer and Champlin",
        "Hegmann, Beier and Kertzmann",
        "Steuber-Jacobs",
        "Gleichner, Sporer and Carter",
        "Raynor LLC",
        "Kreiger Group",
        "Hegmann, Berge and Kulas",
        "Strosin, Boyer and Cremin",
        "Casper-Price",
        "Larson-Bahringer",
        "Beatty LLC",
        "Balistreri-Bednar",
        "Nienow Group",
        "Kuphal Group",
        "Barton, Weber and Walter",
        "Brown Group",
        "Hayes, Dicki and Labadie",
        "Quitzon, Beahan and Hodkiewicz",
        "Jerde and Sons",
        "Stark, O'Kon and Schmidt",
        "King LLC",
        "Jerde, Glover and Mitchell",
        "McGlynn, Reinger and MacGyver",
        "Armstrong, Kiehn and Nader"
       ],
       "index": 0,
       "layout": "IPY_MODEL_bee477e9a4194fa1a74e3a73964e4fa7",
       "style": "IPY_MODEL_968ceea287b6498e968508ef77f4db6c"
      }
     },
     "67c407ae68f349a39b3927808c71433a": {
      "model_module": "@jupyter-widgets/output",
      "model_module_version": "1.0.0",
      "model_name": "OutputModel",
      "state": {
       "layout": "IPY_MODEL_a630de8b0dee47ebbe0cb68efc36f3af",
       "outputs": [
        {
         "name": "stdout",
         "output_type": "stream",
         "text": "Fritsch-Barrows\n"
        }
       ]
      }
     },
     "69a399e233de4df59bf75519a3b46ff7": {
      "model_module": "@jupyter-widgets/output",
      "model_module_version": "1.0.0",
      "model_name": "OutputModel",
      "state": {
       "layout": "IPY_MODEL_fdddde84cd1346909d484d6ec82bcd9e",
       "outputs": [
        {
         "name": "stdout",
         "output_type": "stream",
         "text": "Aromat Spice / Seasoning\n"
        }
       ]
      }
     },
     "6ac3e40ca9e54cfd82c056c7538ff531": {
      "model_module": "@jupyter-widgets/controls",
      "model_module_version": "2.0.0",
      "model_name": "VBoxModel",
      "state": {
       "_dom_classes": [
        "widget-interact"
       ],
       "children": [
        "IPY_MODEL_b9552e76ba514011b975fdfe26912511",
        "IPY_MODEL_f6246112af504fc2b8b3dc11794140ab"
       ],
       "layout": "IPY_MODEL_fe48ccca70ad46109a02d8974e71d11a"
      }
     },
     "6b5de3c5839040b1a2795acf5fadfff4": {
      "model_module": "@jupyter-widgets/controls",
      "model_module_version": "2.0.0",
      "model_name": "DropdownModel",
      "state": {
       "_options_labels": [
        "Fritsch-Barrows",
        "Russel Inc",
        "Lakin LLC",
        "Tromp, Williamson and O'Conner",
        "Koepp, Hessel and Cronin",
        "Strosin-Jacobi",
        "Bartoletti and Sons",
        "Runolfsdottir-Hessel",
        "Zboncak-Hahn",
        "Dietrich Inc",
        "Simonis, Kutch and Pfeffer",
        "Stark, Kulas and Ferry",
        "Schoen, Armstrong and Abshire",
        "Hodkiewicz-Auer",
        "Bogisich-Kunde",
        "Willms-Keebler",
        "Yost, Reynolds and Von",
        "Hills LLC",
        "Rutherford-Streich",
        "Mayer Group",
        "Johnston-Maggio",
        "Boyle, Howe and Hills",
        "Ritchie Group",
        "Conroy and Sons",
        "Kuphal and Sons",
        "Sanford Group",
        "Nader, Nitzsche and Schulist",
        "Herzog Inc",
        "Tremblay, Kshlerin and Lesch",
        "Schiller Inc",
        "Krajcik, Bogisich and Tillman",
        "Hoppe LLC",
        "Reynolds, Roberts and Powlowski",
        "Crona, Nader and Hermiston",
        "Franecki-Purdy",
        "Weber LLC",
        "Brakus, Rowe and Powlowski",
        "Gottlieb, Waters and Armstrong",
        "Herman-Witting",
        "Herzog-Bashirian",
        "McDermott-Cummings",
        "Wiza-Bogisich",
        "Cronin Inc",
        "Jones-Murphy",
        "Stamm, Murray and Sipes",
        "Muller, Roob and Roob",
        "Bernhard LLC",
        "Dooley and Sons",
        "Rohan and Sons",
        "McKenzie-Schaden",
        "Cummerata-Wolff",
        "Grant, Wiegand and Nienow",
        "Johns, Kuvalis and Bradtke",
        "Davis and Sons",
        "Wilderman, Douglas and Macejkovic",
        "Strosin, Renner and Herman",
        "Bernier, Kling and Greenholt",
        "Christiansen, O'Conner and Ward",
        "Kemmer-Macejkovic",
        "Smith-Abernathy",
        "Mante LLC",
        "Schmeler Inc",
        "Gorczany and Sons",
        "Hansen, Kutch and Spencer",
        "Treutel, DuBuque and Reichel",
        "Flatley-Ortiz",
        "Krajcik, DuBuque and Crooks",
        "Monahan-Kihn",
        "Kris, Lind and O'Connell",
        "Shanahan-Harris",
        "Russel, Jones and Kutch",
        "Ritchie, Mertz and Shanahan",
        "Davis, Hand and Emard",
        "McClure LLC",
        "Fritsch, Boyer and Champlin",
        "Hegmann, Beier and Kertzmann",
        "Steuber-Jacobs",
        "Gleichner, Sporer and Carter",
        "Raynor LLC",
        "Kreiger Group",
        "Hegmann, Berge and Kulas",
        "Strosin, Boyer and Cremin",
        "Casper-Price",
        "Larson-Bahringer",
        "Beatty LLC",
        "Balistreri-Bednar",
        "Nienow Group",
        "Kuphal Group",
        "Barton, Weber and Walter",
        "Brown Group",
        "Hayes, Dicki and Labadie",
        "Quitzon, Beahan and Hodkiewicz",
        "Jerde and Sons",
        "Stark, O'Kon and Schmidt",
        "King LLC",
        "Jerde, Glover and Mitchell",
        "McGlynn, Reinger and MacGyver",
        "Armstrong, Kiehn and Nader"
       ],
       "index": 0,
       "layout": "IPY_MODEL_2eeb539e4c5c408bb7c50e4e11859ae1",
       "style": "IPY_MODEL_2142f7fee60449f984cae4ed4fa789c8"
      }
     },
     "6c9d8c4817f54bd385c4ea4b4d83ced4": {
      "model_module": "@jupyter-widgets/base",
      "model_module_version": "2.0.0",
      "model_name": "LayoutModel",
      "state": {}
     },
     "6fe6c492f310434ea912dcbccab59f7b": {
      "model_module": "@jupyter-widgets/controls",
      "model_module_version": "2.0.0",
      "model_name": "DropdownModel",
      "state": {
       "_options_labels": [
        "Aspic - Light",
        "Cut Wakame - Hanawakaba",
        "Beer - Sleeman Fine Porter",
        "Water - Evian 355 Ml",
        "Cheese - Manchego, Spanish",
        "Mushroom - Enoki, Dry",
        "Turkey - Breast, Smoked",
        "Beef - Texas Style Burger",
        "Aromat Spice / Seasoning",
        "Cucumber - Pickling Ontario",
        "Seedlings - Clamshell",
        "Sponge Cake Mix - Vanilla",
        "Rice Pilaf, Dry,package",
        "Mix - Cocktail Ice Cream",
        "Wine - Champagne Brut Veuve",
        "Initation Crab Meat",
        "Buffalo - Tenderloin",
        "Cheese - Gorgonzola",
        "Artichokes - Jerusalem",
        "Melon - Watermelon, Seedless",
        "Salmon - Smoked, Sliced",
        "Bread - Corn Muffaletta",
        "Beans - Long, Chinese",
        "Coconut - Shredded, Sweet",
        "Fish - Halibut, Cold Smoked",
        "Garlic - Elephant",
        "Cumin - Ground",
        "Wild Boar - Tenderloin",
        "Bread - Roll, Soft White Round",
        "Noodles - Cellophane, Thin",
        "Cheese - Mozzarella, Shredded",
        "Glass Clear 8 Oz",
        "Banana",
        "Water - Aquafina Vitamin",
        "Wine - Magnotta - Red, Baco",
        "Muffin Mix - Oatmeal",
        "Pastry - Plain Baked Croissant",
        "Quail - Whole, Bone - In",
        "Catfish - Fillets",
        "Stock - Fish",
        "Beef Tenderloin Aaa",
        "Quail Eggs - Canned",
        "Corn - Mini",
        "Tea - Green",
        "Beer - Camerons Cream Ale",
        "Guava",
        "Wine - Penfolds Koonuga Hill",
        "Apple - Granny Smith",
        "Wine - Red, Wolf Blass, Yellow",
        "Yogurt - Peach, 175 Gr",
        "Drambuie",
        "Pasta - Orzo, Dry",
        "The Pop Shoppe - Black Cherry",
        "Sauce - Bernaise, Mix",
        "Foil - 4oz Custard Cup",
        "Blue Curacao - Marie Brizard",
        "Syrup - Golden, Lyles",
        "Pepper - Cubanelle",
        "Crab - Claws, 26 - 30",
        "Glucose",
        "Pork - Smoked Kassler",
        "Cheese - Augre Des Champs",
        "Mint - Fresh",
        "Hickory Smoke, Liquid",
        "Ice Cream - Fudge Bars",
        "Ecolab Digiclean Mild Fm",
        "Cheese - Brie,danish",
        "Apron",
        "Lettuce - Red Leaf",
        "Carrots - Mini Red Organic",
        "Rum - Dark, Bacardi, Black",
        "Pie Shells 10",
        "Juice - Pineapple, 48 Oz",
        "Strawberries - California",
        "Oil - Peanut",
        "Beer - Alexander Kieths, Pale Ale",
        "Bread - Calabrese Baguette",
        "Wine - Soave Folonari",
        "Tart - Butter Plain Squares",
        "Cookies Almond Hazelnut",
        "Wine - Pinot Noir Latour",
        "Shallots",
        "Salmon Atl.whole 8 - 10 Lb",
        "Artichoke - Bottom, Canned",
        "Energy - Boo - Koo",
        "Scallops - 20/30",
        "Rabbit - Whole",
        "Lamb Rack - Ontario",
        "Soup - Campbells, Chix Gumbo",
        "Chilli Paste, Hot Sambal Oelek",
        "Neckerchief Blck",
        "Ham - Virginia",
        "Yeast Dry - Fleischman",
        "Towels - Paper / Kraft",
        "Soup - French Onion, Dry",
        "Squeeze Bottle",
        "Plaintain"
       ],
       "description": "cx",
       "index": 8,
       "layout": "IPY_MODEL_b83819a71b954381a00d6d6041f4ed73",
       "style": "IPY_MODEL_80f1c32a5c4d4b1fb965c15b4b11eb88"
      }
     },
     "71d67f89ab824d7db9135d5b94b9c62c": {
      "model_module": "@jupyter-widgets/controls",
      "model_module_version": "2.0.0",
      "model_name": "VBoxModel",
      "state": {
       "_dom_classes": [
        "widget-interact"
       ],
       "children": [
        "IPY_MODEL_caa2f347dd5b4dd095cda5154d110711",
        "IPY_MODEL_b43ee856c93e4bdbacd5e79f2a377607"
       ],
       "layout": "IPY_MODEL_7338222f8dbc4677afc0949ff4acfe0d"
      }
     },
     "71fb4d4e58db484f9d6c55ff3eccef2f": {
      "model_module": "@jupyter-widgets/output",
      "model_module_version": "1.0.0",
      "model_name": "OutputModel",
      "state": {
       "layout": "IPY_MODEL_967c09e0dbf44cd4bf1b4732137837a4",
       "outputs": [
        {
         "name": "stdout",
         "output_type": "stream",
         "text": "Aromat Spice / Seasoning\n"
        }
       ]
      }
     },
     "7338222f8dbc4677afc0949ff4acfe0d": {
      "model_module": "@jupyter-widgets/base",
      "model_module_version": "2.0.0",
      "model_name": "LayoutModel",
      "state": {}
     },
     "77598fdac1d347e6ad035b38f981e635": {
      "model_module": "@jupyter-widgets/controls",
      "model_module_version": "2.0.0",
      "model_name": "VBoxModel",
      "state": {
       "_dom_classes": [
        "widget-interact"
       ],
       "children": [
        "IPY_MODEL_4b98fa20b52043b6b75f72b0c690c3a1",
        "IPY_MODEL_7c81451477c243a18d4dbb61f4aeb102",
        "IPY_MODEL_fd848d1fc63d4f209be87b34d467e582"
       ],
       "layout": "IPY_MODEL_2acf761f77c642b8ae8359bfc632bfc9"
      }
     },
     "7c77c7b17bda4a169537b381ed8d7fa5": {
      "model_module": "@jupyter-widgets/controls",
      "model_module_version": "2.0.0",
      "model_name": "SliderStyleModel",
      "state": {
       "description_width": ""
      }
     },
     "7c81451477c243a18d4dbb61f4aeb102": {
      "model_module": "@jupyter-widgets/controls",
      "model_module_version": "2.0.0",
      "model_name": "IntSliderModel",
      "state": {
       "behavior": "drag-tap",
       "description": "x",
       "layout": "IPY_MODEL_27cec9238ae24345bda8acf770dbfc3a",
       "min": 9,
       "style": "IPY_MODEL_f0445c83acfa46ce95233b56a4a1b225",
       "value": 9
      }
     },
     "7ca3b6dcdfda43cebdd24eaad70e1b59": {
      "model_module": "@jupyter-widgets/base",
      "model_module_version": "2.0.0",
      "model_name": "LayoutModel",
      "state": {}
     },
     "7f8cb6d40e2d4669ba1fdcead01487b6": {
      "model_module": "@jupyter-widgets/base",
      "model_module_version": "2.0.0",
      "model_name": "LayoutModel",
      "state": {}
     },
     "80f1c32a5c4d4b1fb965c15b4b11eb88": {
      "model_module": "@jupyter-widgets/controls",
      "model_module_version": "2.0.0",
      "model_name": "DescriptionStyleModel",
      "state": {
       "description_width": ""
      }
     },
     "820d9be215c24468b3c182b0c9c63134": {
      "model_module": "@jupyter-widgets/controls",
      "model_module_version": "2.0.0",
      "model_name": "VBoxModel",
      "state": {
       "_dom_classes": [
        "widget-interact"
       ],
       "children": [
        "IPY_MODEL_54e3947ddb0149d291a487567ab9e3e8",
        "IPY_MODEL_71fb4d4e58db484f9d6c55ff3eccef2f"
       ],
       "layout": "IPY_MODEL_3ac4da1d68114ae586d7792fe6bb676f"
      }
     },
     "83b5ba1449b344618fbc8306538e7cc7": {
      "model_module": "@jupyter-widgets/controls",
      "model_module_version": "2.0.0",
      "model_name": "DropdownModel",
      "state": {
       "_options_labels": [
        "Fritsch-Barrows",
        "Russel Inc",
        "Lakin LLC",
        "Tromp, Williamson and O'Conner",
        "Koepp, Hessel and Cronin",
        "Strosin-Jacobi",
        "Bartoletti and Sons",
        "Runolfsdottir-Hessel",
        "Zboncak-Hahn",
        "Dietrich Inc",
        "Simonis, Kutch and Pfeffer",
        "Stark, Kulas and Ferry",
        "Schoen, Armstrong and Abshire",
        "Hodkiewicz-Auer",
        "Bogisich-Kunde",
        "Willms-Keebler",
        "Yost, Reynolds and Von",
        "Hills LLC",
        "Rutherford-Streich",
        "Mayer Group",
        "Johnston-Maggio",
        "Boyle, Howe and Hills",
        "Ritchie Group",
        "Conroy and Sons",
        "Kuphal and Sons",
        "Sanford Group",
        "Nader, Nitzsche and Schulist",
        "Herzog Inc",
        "Tremblay, Kshlerin and Lesch",
        "Schiller Inc",
        "Krajcik, Bogisich and Tillman",
        "Hoppe LLC",
        "Reynolds, Roberts and Powlowski",
        "Crona, Nader and Hermiston",
        "Franecki-Purdy",
        "Weber LLC",
        "Brakus, Rowe and Powlowski",
        "Gottlieb, Waters and Armstrong",
        "Herman-Witting",
        "Herzog-Bashirian",
        "McDermott-Cummings",
        "Wiza-Bogisich",
        "Cronin Inc",
        "Jones-Murphy",
        "Stamm, Murray and Sipes",
        "Muller, Roob and Roob",
        "Bernhard LLC",
        "Dooley and Sons",
        "Rohan and Sons",
        "McKenzie-Schaden",
        "Cummerata-Wolff",
        "Grant, Wiegand and Nienow",
        "Johns, Kuvalis and Bradtke",
        "Davis and Sons",
        "Wilderman, Douglas and Macejkovic",
        "Strosin, Renner and Herman",
        "Bernier, Kling and Greenholt",
        "Christiansen, O'Conner and Ward",
        "Kemmer-Macejkovic",
        "Smith-Abernathy",
        "Mante LLC",
        "Schmeler Inc",
        "Gorczany and Sons",
        "Hansen, Kutch and Spencer",
        "Treutel, DuBuque and Reichel",
        "Flatley-Ortiz",
        "Krajcik, DuBuque and Crooks",
        "Monahan-Kihn",
        "Kris, Lind and O'Connell",
        "Shanahan-Harris",
        "Russel, Jones and Kutch",
        "Ritchie, Mertz and Shanahan",
        "Davis, Hand and Emard",
        "McClure LLC",
        "Fritsch, Boyer and Champlin",
        "Hegmann, Beier and Kertzmann",
        "Steuber-Jacobs",
        "Gleichner, Sporer and Carter",
        "Raynor LLC",
        "Kreiger Group",
        "Hegmann, Berge and Kulas",
        "Strosin, Boyer and Cremin",
        "Casper-Price",
        "Larson-Bahringer",
        "Beatty LLC",
        "Balistreri-Bednar",
        "Nienow Group",
        "Kuphal Group",
        "Barton, Weber and Walter",
        "Brown Group",
        "Hayes, Dicki and Labadie",
        "Quitzon, Beahan and Hodkiewicz",
        "Jerde and Sons",
        "Stark, O'Kon and Schmidt",
        "King LLC",
        "Jerde, Glover and Mitchell",
        "McGlynn, Reinger and MacGyver",
        "Armstrong, Kiehn and Nader"
       ],
       "description": "cx",
       "index": 0,
       "layout": "IPY_MODEL_3ef510f18ec04718896f9c4ee431517c",
       "style": "IPY_MODEL_5e66a6a147e94780a7794c84c65d7377"
      }
     },
     "8abfa540c5db4c1f911702e479b368f6": {
      "model_module": "@jupyter-widgets/controls",
      "model_module_version": "2.0.0",
      "model_name": "DescriptionStyleModel",
      "state": {
       "description_width": ""
      }
     },
     "8ec4bf842ad744268b152cd0e6e2c70e": {
      "model_module": "@jupyter-widgets/controls",
      "model_module_version": "2.0.0",
      "model_name": "DropdownModel",
      "state": {
       "_options_labels": [
        "Fritsch-Barrows",
        "Russel Inc",
        "Lakin LLC",
        "Tromp, Williamson and O'Conner",
        "Koepp, Hessel and Cronin",
        "Strosin-Jacobi",
        "Bartoletti and Sons",
        "Runolfsdottir-Hessel",
        "Zboncak-Hahn",
        "Dietrich Inc",
        "Simonis, Kutch and Pfeffer",
        "Stark, Kulas and Ferry",
        "Schoen, Armstrong and Abshire",
        "Hodkiewicz-Auer",
        "Bogisich-Kunde",
        "Willms-Keebler",
        "Yost, Reynolds and Von",
        "Hills LLC",
        "Rutherford-Streich",
        "Mayer Group",
        "Johnston-Maggio",
        "Boyle, Howe and Hills",
        "Ritchie Group",
        "Conroy and Sons",
        "Kuphal and Sons",
        "Sanford Group",
        "Nader, Nitzsche and Schulist",
        "Herzog Inc",
        "Tremblay, Kshlerin and Lesch",
        "Schiller Inc",
        "Krajcik, Bogisich and Tillman",
        "Hoppe LLC",
        "Reynolds, Roberts and Powlowski",
        "Crona, Nader and Hermiston",
        "Franecki-Purdy",
        "Weber LLC",
        "Brakus, Rowe and Powlowski",
        "Gottlieb, Waters and Armstrong",
        "Herman-Witting",
        "Herzog-Bashirian",
        "McDermott-Cummings",
        "Wiza-Bogisich",
        "Cronin Inc",
        "Jones-Murphy",
        "Stamm, Murray and Sipes",
        "Muller, Roob and Roob",
        "Bernhard LLC",
        "Dooley and Sons",
        "Rohan and Sons",
        "McKenzie-Schaden",
        "Cummerata-Wolff",
        "Grant, Wiegand and Nienow",
        "Johns, Kuvalis and Bradtke",
        "Davis and Sons",
        "Wilderman, Douglas and Macejkovic",
        "Strosin, Renner and Herman",
        "Bernier, Kling and Greenholt",
        "Christiansen, O'Conner and Ward",
        "Kemmer-Macejkovic",
        "Smith-Abernathy",
        "Mante LLC",
        "Schmeler Inc",
        "Gorczany and Sons",
        "Hansen, Kutch and Spencer",
        "Treutel, DuBuque and Reichel",
        "Flatley-Ortiz",
        "Krajcik, DuBuque and Crooks",
        "Monahan-Kihn",
        "Kris, Lind and O'Connell",
        "Shanahan-Harris",
        "Russel, Jones and Kutch",
        "Ritchie, Mertz and Shanahan",
        "Davis, Hand and Emard",
        "McClure LLC",
        "Fritsch, Boyer and Champlin",
        "Hegmann, Beier and Kertzmann",
        "Steuber-Jacobs",
        "Gleichner, Sporer and Carter",
        "Raynor LLC",
        "Kreiger Group",
        "Hegmann, Berge and Kulas",
        "Strosin, Boyer and Cremin",
        "Casper-Price",
        "Larson-Bahringer",
        "Beatty LLC",
        "Balistreri-Bednar",
        "Nienow Group",
        "Kuphal Group",
        "Barton, Weber and Walter",
        "Brown Group",
        "Hayes, Dicki and Labadie",
        "Quitzon, Beahan and Hodkiewicz",
        "Jerde and Sons",
        "Stark, O'Kon and Schmidt",
        "King LLC",
        "Jerde, Glover and Mitchell",
        "McGlynn, Reinger and MacGyver",
        "Armstrong, Kiehn and Nader"
       ],
       "description": "cx",
       "index": 0,
       "layout": "IPY_MODEL_e098aaab5dd44f2296ff3324dc0ec4c6",
       "style": "IPY_MODEL_e4e94351a61a41a98176f6aab2962150"
      }
     },
     "94bb18d5e0944189b0cd72def15c3d84": {
      "model_module": "@jupyter-widgets/base",
      "model_module_version": "2.0.0",
      "model_name": "LayoutModel",
      "state": {}
     },
     "967c09e0dbf44cd4bf1b4732137837a4": {
      "model_module": "@jupyter-widgets/base",
      "model_module_version": "2.0.0",
      "model_name": "LayoutModel",
      "state": {}
     },
     "968ceea287b6498e968508ef77f4db6c": {
      "model_module": "@jupyter-widgets/controls",
      "model_module_version": "2.0.0",
      "model_name": "DescriptionStyleModel",
      "state": {
       "description_width": ""
      }
     },
     "a1bde34c84f845839aa30e8d9b1339e3": {
      "model_module": "@jupyter-widgets/controls",
      "model_module_version": "2.0.0",
      "model_name": "DescriptionStyleModel",
      "state": {
       "description_width": ""
      }
     },
     "a630de8b0dee47ebbe0cb68efc36f3af": {
      "model_module": "@jupyter-widgets/base",
      "model_module_version": "2.0.0",
      "model_name": "LayoutModel",
      "state": {}
     },
     "a6a99720a4ff4f7fbbf7ed2d66bdb959": {
      "model_module": "@jupyter-widgets/base",
      "model_module_version": "2.0.0",
      "model_name": "LayoutModel",
      "state": {}
     },
     "a6bafb8a9f3b45858f1bb8c928f0c582": {
      "model_module": "@jupyter-widgets/output",
      "model_module_version": "1.0.0",
      "model_name": "OutputModel",
      "state": {
       "layout": "IPY_MODEL_e444a29794cd46249dd19b40c98b578f",
       "outputs": [
        {
         "name": "stdout",
         "output_type": "stream",
         "text": "Fritsch-Barrows\n"
        }
       ]
      }
     },
     "a7c8483871164a09b2a188bb07189f61": {
      "model_module": "@jupyter-widgets/base",
      "model_module_version": "2.0.0",
      "model_name": "LayoutModel",
      "state": {}
     },
     "a824e964b1fa4d7a978d55f7624e01f7": {
      "model_module": "@jupyter-widgets/controls",
      "model_module_version": "2.0.0",
      "model_name": "SliderStyleModel",
      "state": {
       "description_width": ""
      }
     },
     "a9a01d1135a9419191c9929d0e55c773": {
      "model_module": "@jupyter-widgets/controls",
      "model_module_version": "2.0.0",
      "model_name": "DescriptionStyleModel",
      "state": {
       "description_width": ""
      }
     },
     "aa779690cdc446479d47182179fa0ad5": {
      "model_module": "@jupyter-widgets/controls",
      "model_module_version": "2.0.0",
      "model_name": "DropdownModel",
      "state": {
       "_options_labels": [
        "Fritsch-Barrows",
        "Russel Inc",
        "Lakin LLC",
        "Tromp, Williamson and O'Conner",
        "Koepp, Hessel and Cronin",
        "Strosin-Jacobi",
        "Bartoletti and Sons",
        "Runolfsdottir-Hessel",
        "Zboncak-Hahn",
        "Dietrich Inc",
        "Simonis, Kutch and Pfeffer",
        "Stark, Kulas and Ferry",
        "Schoen, Armstrong and Abshire",
        "Hodkiewicz-Auer",
        "Bogisich-Kunde",
        "Willms-Keebler",
        "Yost, Reynolds and Von",
        "Hills LLC",
        "Rutherford-Streich",
        "Mayer Group",
        "Johnston-Maggio",
        "Boyle, Howe and Hills",
        "Ritchie Group",
        "Conroy and Sons",
        "Kuphal and Sons",
        "Sanford Group",
        "Nader, Nitzsche and Schulist",
        "Herzog Inc",
        "Tremblay, Kshlerin and Lesch",
        "Schiller Inc",
        "Krajcik, Bogisich and Tillman",
        "Hoppe LLC",
        "Reynolds, Roberts and Powlowski",
        "Crona, Nader and Hermiston",
        "Franecki-Purdy",
        "Weber LLC",
        "Brakus, Rowe and Powlowski",
        "Gottlieb, Waters and Armstrong",
        "Herman-Witting",
        "Herzog-Bashirian",
        "McDermott-Cummings",
        "Wiza-Bogisich",
        "Cronin Inc",
        "Jones-Murphy",
        "Stamm, Murray and Sipes",
        "Muller, Roob and Roob",
        "Bernhard LLC",
        "Dooley and Sons",
        "Rohan and Sons",
        "McKenzie-Schaden",
        "Cummerata-Wolff",
        "Grant, Wiegand and Nienow",
        "Johns, Kuvalis and Bradtke",
        "Davis and Sons",
        "Wilderman, Douglas and Macejkovic",
        "Strosin, Renner and Herman",
        "Bernier, Kling and Greenholt",
        "Christiansen, O'Conner and Ward",
        "Kemmer-Macejkovic",
        "Smith-Abernathy",
        "Mante LLC",
        "Schmeler Inc",
        "Gorczany and Sons",
        "Hansen, Kutch and Spencer",
        "Treutel, DuBuque and Reichel",
        "Flatley-Ortiz",
        "Krajcik, DuBuque and Crooks",
        "Monahan-Kihn",
        "Kris, Lind and O'Connell",
        "Shanahan-Harris",
        "Russel, Jones and Kutch",
        "Ritchie, Mertz and Shanahan",
        "Davis, Hand and Emard",
        "McClure LLC",
        "Fritsch, Boyer and Champlin",
        "Hegmann, Beier and Kertzmann",
        "Steuber-Jacobs",
        "Gleichner, Sporer and Carter",
        "Raynor LLC",
        "Kreiger Group",
        "Hegmann, Berge and Kulas",
        "Strosin, Boyer and Cremin",
        "Casper-Price",
        "Larson-Bahringer",
        "Beatty LLC",
        "Balistreri-Bednar",
        "Nienow Group",
        "Kuphal Group",
        "Barton, Weber and Walter",
        "Brown Group",
        "Hayes, Dicki and Labadie",
        "Quitzon, Beahan and Hodkiewicz",
        "Jerde and Sons",
        "Stark, O'Kon and Schmidt",
        "King LLC",
        "Jerde, Glover and Mitchell",
        "McGlynn, Reinger and MacGyver",
        "Armstrong, Kiehn and Nader"
       ],
       "index": 16,
       "layout": "IPY_MODEL_53198d2d18d847a880dc4dee60b593a5",
       "style": "IPY_MODEL_df5a61c531e24e1f9fc9d49a5010ecf5"
      }
     },
     "aa8a5c7574424d99b9a54a0a632ab632": {
      "model_module": "@jupyter-widgets/base",
      "model_module_version": "2.0.0",
      "model_name": "LayoutModel",
      "state": {}
     },
     "b094c838229d42bc8a77db51d11303e3": {
      "model_module": "@jupyter-widgets/controls",
      "model_module_version": "2.0.0",
      "model_name": "CheckboxModel",
      "state": {
       "description": "x",
       "disabled": false,
       "layout": "IPY_MODEL_e6e63f55b5544bbb9fc22f41515e7784",
       "style": "IPY_MODEL_1d2014207d2646208cf2f5cbcb21577f",
       "value": false
      }
     },
     "b43ee856c93e4bdbacd5e79f2a377607": {
      "model_module": "@jupyter-widgets/output",
      "model_module_version": "1.0.0",
      "model_name": "OutputModel",
      "state": {
       "layout": "IPY_MODEL_dcda1998d03748bbb1b56ee2ca151845",
       "outputs": [
        {
         "name": "stdout",
         "output_type": "stream",
         "text": "Tromp, Williamson and O'Conner\n"
        }
       ]
      }
     },
     "b83819a71b954381a00d6d6041f4ed73": {
      "model_module": "@jupyter-widgets/base",
      "model_module_version": "2.0.0",
      "model_name": "LayoutModel",
      "state": {}
     },
     "b9552e76ba514011b975fdfe26912511": {
      "model_module": "@jupyter-widgets/controls",
      "model_module_version": "2.0.0",
      "model_name": "DropdownModel",
      "state": {
       "_options_labels": [
        "Aspic - Light",
        "Cut Wakame - Hanawakaba",
        "Beer - Sleeman Fine Porter",
        "Water - Evian 355 Ml",
        "Cheese - Manchego, Spanish",
        "Mushroom - Enoki, Dry",
        "Turkey - Breast, Smoked",
        "Beef - Texas Style Burger",
        "Aromat Spice / Seasoning",
        "Cucumber - Pickling Ontario",
        "Seedlings - Clamshell",
        "Sponge Cake Mix - Vanilla",
        "Rice Pilaf, Dry,package",
        "Mix - Cocktail Ice Cream",
        "Wine - Champagne Brut Veuve",
        "Initation Crab Meat",
        "Buffalo - Tenderloin",
        "Cheese - Gorgonzola",
        "Artichokes - Jerusalem",
        "Melon - Watermelon, Seedless",
        "Salmon - Smoked, Sliced",
        "Bread - Corn Muffaletta",
        "Beans - Long, Chinese",
        "Coconut - Shredded, Sweet",
        "Fish - Halibut, Cold Smoked",
        "Garlic - Elephant",
        "Cumin - Ground",
        "Wild Boar - Tenderloin",
        "Bread - Roll, Soft White Round",
        "Noodles - Cellophane, Thin",
        "Cheese - Mozzarella, Shredded",
        "Glass Clear 8 Oz",
        "Banana",
        "Water - Aquafina Vitamin",
        "Wine - Magnotta - Red, Baco",
        "Muffin Mix - Oatmeal",
        "Pastry - Plain Baked Croissant",
        "Quail - Whole, Bone - In",
        "Catfish - Fillets",
        "Stock - Fish",
        "Beef Tenderloin Aaa",
        "Quail Eggs - Canned",
        "Corn - Mini",
        "Tea - Green",
        "Beer - Camerons Cream Ale",
        "Guava",
        "Wine - Penfolds Koonuga Hill",
        "Apple - Granny Smith",
        "Wine - Red, Wolf Blass, Yellow",
        "Yogurt - Peach, 175 Gr",
        "Drambuie",
        "Pasta - Orzo, Dry",
        "The Pop Shoppe - Black Cherry",
        "Sauce - Bernaise, Mix",
        "Foil - 4oz Custard Cup",
        "Blue Curacao - Marie Brizard",
        "Syrup - Golden, Lyles",
        "Pepper - Cubanelle",
        "Crab - Claws, 26 - 30",
        "Glucose",
        "Pork - Smoked Kassler",
        "Cheese - Augre Des Champs",
        "Mint - Fresh",
        "Hickory Smoke, Liquid",
        "Ice Cream - Fudge Bars",
        "Ecolab Digiclean Mild Fm",
        "Cheese - Brie,danish",
        "Apron",
        "Lettuce - Red Leaf",
        "Carrots - Mini Red Organic",
        "Rum - Dark, Bacardi, Black",
        "Pie Shells 10",
        "Juice - Pineapple, 48 Oz",
        "Strawberries - California",
        "Oil - Peanut",
        "Beer - Alexander Kieths, Pale Ale",
        "Bread - Calabrese Baguette",
        "Wine - Soave Folonari",
        "Tart - Butter Plain Squares",
        "Cookies Almond Hazelnut",
        "Wine - Pinot Noir Latour",
        "Shallots",
        "Salmon Atl.whole 8 - 10 Lb",
        "Artichoke - Bottom, Canned",
        "Energy - Boo - Koo",
        "Scallops - 20/30",
        "Rabbit - Whole",
        "Lamb Rack - Ontario",
        "Soup - Campbells, Chix Gumbo",
        "Chilli Paste, Hot Sambal Oelek",
        "Neckerchief Blck",
        "Ham - Virginia",
        "Yeast Dry - Fleischman",
        "Towels - Paper / Kraft",
        "Soup - French Onion, Dry",
        "Squeeze Bottle",
        "Plaintain"
       ],
       "description": "cx",
       "index": 0,
       "layout": "IPY_MODEL_d0a20ffcacc2450083349066bdc95da0",
       "style": "IPY_MODEL_f9b78b31a5ac4f98b5cda218aac28da0"
      }
     },
     "b98e6a93226c47dc8ac90461eb3f8b13": {
      "model_module": "@jupyter-widgets/base",
      "model_module_version": "2.0.0",
      "model_name": "LayoutModel",
      "state": {}
     },
     "bee477e9a4194fa1a74e3a73964e4fa7": {
      "model_module": "@jupyter-widgets/base",
      "model_module_version": "2.0.0",
      "model_name": "LayoutModel",
      "state": {}
     },
     "bfb902fa1f5a4d0f85cf57ccb26b92ee": {
      "model_module": "@jupyter-widgets/controls",
      "model_module_version": "2.0.0",
      "model_name": "DescriptionStyleModel",
      "state": {
       "description_width": ""
      }
     },
     "c190752db5154bab9b5628448a7f08dd": {
      "model_module": "@jupyter-widgets/controls",
      "model_module_version": "2.0.0",
      "model_name": "VBoxModel",
      "state": {
       "_dom_classes": [
        "widget-interact"
       ],
       "children": [
        "IPY_MODEL_5102c86a111e426eaa9bd4cd4e76a70c",
        "IPY_MODEL_5e180fbc35ae4d839d5f7f8f28539c75",
        "IPY_MODEL_c35212d7089940d9944aa291ec023e4b"
       ],
       "layout": "IPY_MODEL_c74812eeef0c4994b06eebe7249931b3"
      }
     },
     "c35212d7089940d9944aa291ec023e4b": {
      "model_module": "@jupyter-widgets/output",
      "model_module_version": "1.0.0",
      "model_name": "OutputModel",
      "state": {
       "layout": "IPY_MODEL_62a947f4065e4f21a1c0f464882af8ac",
       "outputs": [
        {
         "name": "stdout",
         "output_type": "stream",
         "text": "Aspic - Light\n"
        }
       ]
      }
     },
     "c5b54fa2dc6a4ac8b4b267d99f5e297f": {
      "model_module": "@jupyter-widgets/base",
      "model_module_version": "2.0.0",
      "model_name": "LayoutModel",
      "state": {}
     },
     "c74812eeef0c4994b06eebe7249931b3": {
      "model_module": "@jupyter-widgets/base",
      "model_module_version": "2.0.0",
      "model_name": "LayoutModel",
      "state": {}
     },
     "c8ba2d24956248e5aa4d0bb12a607d4a": {
      "model_module": "@jupyter-widgets/base",
      "model_module_version": "2.0.0",
      "model_name": "LayoutModel",
      "state": {}
     },
     "caa2f347dd5b4dd095cda5154d110711": {
      "model_module": "@jupyter-widgets/controls",
      "model_module_version": "2.0.0",
      "model_name": "DropdownModel",
      "state": {
       "_options_labels": [
        "Fritsch-Barrows",
        "Russel Inc",
        "Lakin LLC",
        "Tromp, Williamson and O'Conner",
        "Koepp, Hessel and Cronin",
        "Strosin-Jacobi",
        "Bartoletti and Sons",
        "Runolfsdottir-Hessel",
        "Zboncak-Hahn",
        "Dietrich Inc"
       ],
       "description": "cx",
       "index": 3,
       "layout": "IPY_MODEL_54140da62a68490aaff961cab360632b",
       "style": "IPY_MODEL_6099b52427954922abb39553cda5f5f5"
      }
     },
     "cd084b966f794e08b89d65007e78b795": {
      "model_module": "@jupyter-widgets/controls",
      "model_module_version": "2.0.0",
      "model_name": "SliderStyleModel",
      "state": {
       "description_width": ""
      }
     },
     "d0a20ffcacc2450083349066bdc95da0": {
      "model_module": "@jupyter-widgets/base",
      "model_module_version": "2.0.0",
      "model_name": "LayoutModel",
      "state": {}
     },
     "d56a4c8a4cd84cf4b097df2d37cf322a": {
      "model_module": "@jupyter-widgets/controls",
      "model_module_version": "2.0.0",
      "model_name": "VBoxModel",
      "state": {
       "_dom_classes": [
        "widget-interact"
       ],
       "children": [
        "IPY_MODEL_eb96935defa24bbc837bdbf907564c12",
        "IPY_MODEL_403179b4d20c4c4592856c3436ef11bb",
        "IPY_MODEL_69a399e233de4df59bf75519a3b46ff7"
       ],
       "layout": "IPY_MODEL_6c9d8c4817f54bd385c4ea4b4d83ced4"
      }
     },
     "da1893e826fb49719226398dc4439d5e": {
      "model_module": "@jupyter-widgets/controls",
      "model_module_version": "2.0.0",
      "model_name": "VBoxModel",
      "state": {
       "_dom_classes": [
        "widget-interact"
       ],
       "children": [
        "IPY_MODEL_e6dd842d744f4d3eae5d69b999d56a62",
        "IPY_MODEL_39a7162bb41c4056a4d6910ad51c93c4"
       ],
       "layout": "IPY_MODEL_0352afce810640e6b14c034fa0ff56d2"
      }
     },
     "dae37f4d6fdb4b49877329f6ebc2da25": {
      "model_module": "@jupyter-widgets/controls",
      "model_module_version": "2.0.0",
      "model_name": "SliderStyleModel",
      "state": {
       "description_width": ""
      }
     },
     "dcda1998d03748bbb1b56ee2ca151845": {
      "model_module": "@jupyter-widgets/base",
      "model_module_version": "2.0.0",
      "model_name": "LayoutModel",
      "state": {}
     },
     "ddc9299b85a2461099ad130dfc170b3f": {
      "model_module": "@jupyter-widgets/base",
      "model_module_version": "2.0.0",
      "model_name": "LayoutModel",
      "state": {}
     },
     "de2412289089454da47d19eb33f6bcd1": {
      "model_module": "@jupyter-widgets/output",
      "model_module_version": "1.0.0",
      "model_name": "OutputModel",
      "state": {
       "layout": "IPY_MODEL_f9bf5873aea8440d91acc9975d59672b",
       "outputs": [
        {
         "name": "stdout",
         "output_type": "stream",
         "text": "Fritsch-Barrows\n"
        }
       ]
      }
     },
     "dec55c02ed2a4ae69b0d0484f23b78af": {
      "model_module": "@jupyter-widgets/controls",
      "model_module_version": "2.0.0",
      "model_name": "SliderStyleModel",
      "state": {
       "description_width": ""
      }
     },
     "df093202755147939a36c025736952d7": {
      "model_module": "@jupyter-widgets/controls",
      "model_module_version": "2.0.0",
      "model_name": "VBoxModel",
      "state": {
       "_dom_classes": [
        "widget-interact"
       ],
       "children": [
        "IPY_MODEL_6fe6c492f310434ea912dcbccab59f7b",
        "IPY_MODEL_b094c838229d42bc8a77db51d11303e3",
        "IPY_MODEL_54c2aaf0ebc74a63bf9eaa028636ab51"
       ],
       "layout": "IPY_MODEL_3cbc2f945aed4170a30bc4cb1d76ea85"
      }
     },
     "df5a61c531e24e1f9fc9d49a5010ecf5": {
      "model_module": "@jupyter-widgets/controls",
      "model_module_version": "2.0.0",
      "model_name": "DescriptionStyleModel",
      "state": {
       "description_width": ""
      }
     },
     "e06aa95f35d14aa4a658ab0f5b3eca2f": {
      "model_module": "@jupyter-widgets/controls",
      "model_module_version": "2.0.0",
      "model_name": "IntSliderModel",
      "state": {
       "behavior": "drag-tap",
       "description": "x",
       "layout": "IPY_MODEL_7f8cb6d40e2d4669ba1fdcead01487b6",
       "max": 15,
       "min": -5,
       "style": "IPY_MODEL_dec55c02ed2a4ae69b0d0484f23b78af",
       "value": 5
      }
     },
     "e098aaab5dd44f2296ff3324dc0ec4c6": {
      "model_module": "@jupyter-widgets/base",
      "model_module_version": "2.0.0",
      "model_name": "LayoutModel",
      "state": {}
     },
     "e0d51b6cea044379bc7ce372f9dda3ab": {
      "model_module": "@jupyter-widgets/base",
      "model_module_version": "2.0.0",
      "model_name": "LayoutModel",
      "state": {}
     },
     "e0ea3c8a3b1b40aea2379b4b7bf0c033": {
      "model_module": "@jupyter-widgets/controls",
      "model_module_version": "2.0.0",
      "model_name": "VBoxModel",
      "state": {
       "_dom_classes": [
        "widget-interact"
       ],
       "children": [
        "IPY_MODEL_626f4ddd7f7f4a798d2add7daeb3f957",
        "IPY_MODEL_f242572bce0a4f74895e62c3be833b5d"
       ],
       "layout": "IPY_MODEL_67222322b1894271b7082bde841de229"
      }
     },
     "e444a29794cd46249dd19b40c98b578f": {
      "model_module": "@jupyter-widgets/base",
      "model_module_version": "2.0.0",
      "model_name": "LayoutModel",
      "state": {}
     },
     "e4e94351a61a41a98176f6aab2962150": {
      "model_module": "@jupyter-widgets/controls",
      "model_module_version": "2.0.0",
      "model_name": "DescriptionStyleModel",
      "state": {
       "description_width": ""
      }
     },
     "e6dd842d744f4d3eae5d69b999d56a62": {
      "model_module": "@jupyter-widgets/controls",
      "model_module_version": "2.0.0",
      "model_name": "IntSliderModel",
      "state": {
       "behavior": "drag-tap",
       "description": "x",
       "layout": "IPY_MODEL_94bb18d5e0944189b0cd72def15c3d84",
       "max": 15,
       "min": -5,
       "style": "IPY_MODEL_dae37f4d6fdb4b49877329f6ebc2da25",
       "value": 13
      }
     },
     "e6e63f55b5544bbb9fc22f41515e7784": {
      "model_module": "@jupyter-widgets/base",
      "model_module_version": "2.0.0",
      "model_name": "LayoutModel",
      "state": {}
     },
     "e8f017465607473b91d6e9c0193c805a": {
      "model_module": "@jupyter-widgets/controls",
      "model_module_version": "2.0.0",
      "model_name": "DescriptionStyleModel",
      "state": {
       "description_width": ""
      }
     },
     "ea45fa5afd51473db80eac133859f6a7": {
      "model_module": "@jupyter-widgets/controls",
      "model_module_version": "2.0.0",
      "model_name": "DescriptionStyleModel",
      "state": {
       "description_width": ""
      }
     },
     "eb96935defa24bbc837bdbf907564c12": {
      "model_module": "@jupyter-widgets/controls",
      "model_module_version": "2.0.0",
      "model_name": "DropdownModel",
      "state": {
       "_options_labels": [
        "Aspic - Light",
        "Cut Wakame - Hanawakaba",
        "Beer - Sleeman Fine Porter",
        "Water - Evian 355 Ml",
        "Cheese - Manchego, Spanish",
        "Mushroom - Enoki, Dry",
        "Turkey - Breast, Smoked",
        "Beef - Texas Style Burger",
        "Aromat Spice / Seasoning",
        "Cucumber - Pickling Ontario",
        "Seedlings - Clamshell",
        "Sponge Cake Mix - Vanilla",
        "Rice Pilaf, Dry,package",
        "Mix - Cocktail Ice Cream",
        "Wine - Champagne Brut Veuve",
        "Initation Crab Meat",
        "Buffalo - Tenderloin",
        "Cheese - Gorgonzola",
        "Artichokes - Jerusalem",
        "Melon - Watermelon, Seedless",
        "Salmon - Smoked, Sliced",
        "Bread - Corn Muffaletta",
        "Beans - Long, Chinese",
        "Coconut - Shredded, Sweet",
        "Fish - Halibut, Cold Smoked",
        "Garlic - Elephant",
        "Cumin - Ground",
        "Wild Boar - Tenderloin",
        "Bread - Roll, Soft White Round",
        "Noodles - Cellophane, Thin",
        "Cheese - Mozzarella, Shredded",
        "Glass Clear 8 Oz",
        "Banana",
        "Water - Aquafina Vitamin",
        "Wine - Magnotta - Red, Baco",
        "Muffin Mix - Oatmeal",
        "Pastry - Plain Baked Croissant",
        "Quail - Whole, Bone - In",
        "Catfish - Fillets",
        "Stock - Fish",
        "Beef Tenderloin Aaa",
        "Quail Eggs - Canned",
        "Corn - Mini",
        "Tea - Green",
        "Beer - Camerons Cream Ale",
        "Guava",
        "Wine - Penfolds Koonuga Hill",
        "Apple - Granny Smith",
        "Wine - Red, Wolf Blass, Yellow",
        "Yogurt - Peach, 175 Gr",
        "Drambuie",
        "Pasta - Orzo, Dry",
        "The Pop Shoppe - Black Cherry",
        "Sauce - Bernaise, Mix",
        "Foil - 4oz Custard Cup",
        "Blue Curacao - Marie Brizard",
        "Syrup - Golden, Lyles",
        "Pepper - Cubanelle",
        "Crab - Claws, 26 - 30",
        "Glucose",
        "Pork - Smoked Kassler",
        "Cheese - Augre Des Champs",
        "Mint - Fresh",
        "Hickory Smoke, Liquid",
        "Ice Cream - Fudge Bars",
        "Ecolab Digiclean Mild Fm",
        "Cheese - Brie,danish",
        "Apron",
        "Lettuce - Red Leaf",
        "Carrots - Mini Red Organic",
        "Rum - Dark, Bacardi, Black",
        "Pie Shells 10",
        "Juice - Pineapple, 48 Oz",
        "Strawberries - California",
        "Oil - Peanut",
        "Beer - Alexander Kieths, Pale Ale",
        "Bread - Calabrese Baguette",
        "Wine - Soave Folonari",
        "Tart - Butter Plain Squares",
        "Cookies Almond Hazelnut",
        "Wine - Pinot Noir Latour",
        "Shallots",
        "Salmon Atl.whole 8 - 10 Lb",
        "Artichoke - Bottom, Canned",
        "Energy - Boo - Koo",
        "Scallops - 20/30",
        "Rabbit - Whole",
        "Lamb Rack - Ontario",
        "Soup - Campbells, Chix Gumbo",
        "Chilli Paste, Hot Sambal Oelek",
        "Neckerchief Blck",
        "Ham - Virginia",
        "Yeast Dry - Fleischman",
        "Towels - Paper / Kraft",
        "Soup - French Onion, Dry",
        "Squeeze Bottle",
        "Plaintain"
       ],
       "description": "cx",
       "index": 8,
       "layout": "IPY_MODEL_14a009d0f970445ab5628d21effc82a7",
       "style": "IPY_MODEL_a9a01d1135a9419191c9929d0e55c773"
      }
     },
     "f0445c83acfa46ce95233b56a4a1b225": {
      "model_module": "@jupyter-widgets/controls",
      "model_module_version": "2.0.0",
      "model_name": "SliderStyleModel",
      "state": {
       "description_width": ""
      }
     },
     "f242572bce0a4f74895e62c3be833b5d": {
      "model_module": "@jupyter-widgets/output",
      "model_module_version": "1.0.0",
      "model_name": "OutputModel",
      "state": {
       "layout": "IPY_MODEL_0dd0404ea5a4459997a501d379abe3f7",
       "outputs": [
        {
         "name": "stdout",
         "output_type": "stream",
         "text": "Fritsch-Barrows\n"
        }
       ]
      }
     },
     "f2a0e86fef3b43adb3a9d28850c4d050": {
      "model_module": "@jupyter-widgets/controls",
      "model_module_version": "2.0.0",
      "model_name": "SliderStyleModel",
      "state": {
       "description_width": ""
      }
     },
     "f405fefd46874ebf8ea1d1a3b57d888e": {
      "model_module": "@jupyter-widgets/base",
      "model_module_version": "2.0.0",
      "model_name": "LayoutModel",
      "state": {}
     },
     "f6246112af504fc2b8b3dc11794140ab": {
      "model_module": "@jupyter-widgets/output",
      "model_module_version": "1.0.0",
      "model_name": "OutputModel",
      "state": {
       "layout": "IPY_MODEL_e0d51b6cea044379bc7ce372f9dda3ab",
       "outputs": [
        {
         "name": "stdout",
         "output_type": "stream",
         "text": "Aspic - Light\n"
        }
       ]
      }
     },
     "f9b78b31a5ac4f98b5cda218aac28da0": {
      "model_module": "@jupyter-widgets/controls",
      "model_module_version": "2.0.0",
      "model_name": "DescriptionStyleModel",
      "state": {
       "description_width": ""
      }
     },
     "f9b8f890556f4c2e8bdd5e1b0711cfce": {
      "model_module": "@jupyter-widgets/base",
      "model_module_version": "2.0.0",
      "model_name": "LayoutModel",
      "state": {}
     },
     "f9bf5873aea8440d91acc9975d59672b": {
      "model_module": "@jupyter-widgets/base",
      "model_module_version": "2.0.0",
      "model_name": "LayoutModel",
      "state": {}
     },
     "fd848d1fc63d4f209be87b34d467e582": {
      "model_module": "@jupyter-widgets/output",
      "model_module_version": "1.0.0",
      "model_name": "OutputModel",
      "state": {
       "layout": "IPY_MODEL_42231e593ef24ae69e717ae2492d640c",
       "outputs": [
        {
         "name": "stdout",
         "output_type": "stream",
         "text": "Fritsch-Barrows\n"
        }
       ]
      }
     },
     "fdddde84cd1346909d484d6ec82bcd9e": {
      "model_module": "@jupyter-widgets/base",
      "model_module_version": "2.0.0",
      "model_name": "LayoutModel",
      "state": {}
     },
     "fe48ccca70ad46109a02d8974e71d11a": {
      "model_module": "@jupyter-widgets/base",
      "model_module_version": "2.0.0",
      "model_name": "LayoutModel",
      "state": {}
     }
    },
    "version_major": 2,
    "version_minor": 0
   }
  }
 },
 "nbformat": 4,
 "nbformat_minor": 5
}
