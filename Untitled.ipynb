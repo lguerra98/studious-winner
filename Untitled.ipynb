{
 "cells": [
  {
   "cell_type": "code",
   "execution_count": 82,
   "id": "e90ad11e-a244-4c31-82e5-35c9aa8cc0ad",
   "metadata": {},
   "outputs": [],
   "source": [
    "import os\n",
    "import pandas as pd\n",
    "\n",
    "path = [i for i in os.listdir() if i.startswith(pd.Timestamp.now().strftime(\"%Y%m%d\"))][0]\n",
    "headers = [\"cant\", \"producto\", \"valor\", \"unidad\"]\n",
    "\n",
    "df = pd.read_csv(path, header=None, delimiter=\";\")\n",
    "df_clientes = pd.read_excel(\"inventario.xlsm\", sheet_name=\"clientes\")\n",
    "\n",
    "df.columns = headers\n",
    "df[\"total\"] = df[\"cant\"]*df[\"valor\"]\n",
    "\n",
    "nit = int(path.split(\"_\")[1])\n",
    "uid = path.split(\"_\")[0]\n",
    "\n",
    "\n"
   ]
  },
  {
   "cell_type": "code",
   "execution_count": 75,
   "id": "985fb8f2-890b-450f-a67e-8607e4ee9dc6",
   "metadata": {},
   "outputs": [],
   "source": [
    "df[\"cant\"] = df[\"cant\"].astype(str) + \" \" + df[\"unidad\"]\n",
    "df.drop(\"unidad\", axis=1, inplace=True)\n",
    "# df_clientes#.query(f\"NIT == {nit}\")[\"DIRECCION\"].iloc[0]"
   ]
  },
  {
   "cell_type": "code",
   "execution_count": 76,
   "id": "41e57962-119f-479d-9505-251c5a42f3b7",
   "metadata": {},
   "outputs": [
    {
     "data": {
      "text/html": [
       "<div>\n",
       "<style scoped>\n",
       "    .dataframe tbody tr th:only-of-type {\n",
       "        vertical-align: middle;\n",
       "    }\n",
       "\n",
       "    .dataframe tbody tr th {\n",
       "        vertical-align: top;\n",
       "    }\n",
       "\n",
       "    .dataframe thead th {\n",
       "        text-align: right;\n",
       "    }\n",
       "</style>\n",
       "<table border=\"1\" class=\"dataframe\">\n",
       "  <thead>\n",
       "    <tr style=\"text-align: right;\">\n",
       "      <th></th>\n",
       "      <th>cant</th>\n",
       "      <th>producto</th>\n",
       "      <th>valor</th>\n",
       "      <th>total</th>\n",
       "    </tr>\n",
       "  </thead>\n",
       "  <tbody>\n",
       "    <tr>\n",
       "      <th>0</th>\n",
       "      <td>1 pacas pacas</td>\n",
       "      <td>CC 3 Litros</td>\n",
       "      <td>60000</td>\n",
       "      <td>60000</td>\n",
       "    </tr>\n",
       "    <tr>\n",
       "      <th>1</th>\n",
       "      <td>3 unds unds</td>\n",
       "      <td>CC ZERO 1.5 Litros</td>\n",
       "      <td>5500</td>\n",
       "      <td>16500</td>\n",
       "    </tr>\n",
       "  </tbody>\n",
       "</table>\n",
       "</div>"
      ],
      "text/plain": [
       "            cant             producto  valor  total\n",
       "0  1 pacas pacas          CC 3 Litros  60000  60000\n",
       "1    3 unds unds  CC ZERO 1.5 Litros    5500  16500"
      ]
     },
     "execution_count": 76,
     "metadata": {},
     "output_type": "execute_result"
    }
   ],
   "source": [
    "df"
   ]
  }
 ],
 "metadata": {
  "kernelspec": {
   "display_name": "Python 3 (ipykernel)",
   "language": "python",
   "name": "python3"
  },
  "language_info": {
   "codemirror_mode": {
    "name": "ipython",
    "version": 3
   },
   "file_extension": ".py",
   "mimetype": "text/x-python",
   "name": "python",
   "nbconvert_exporter": "python",
   "pygments_lexer": "ipython3",
   "version": "3.12.9"
  }
 },
 "nbformat": 4,
 "nbformat_minor": 5
}
